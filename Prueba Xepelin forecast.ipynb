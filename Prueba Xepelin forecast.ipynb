{
 "cells": [
  {
   "cell_type": "markdown",
   "id": "adf7c158",
   "metadata": {},
   "source": [
    "<p style=\"font-family: Arial; font-size:3.75em;color:purple; font-style:bold\"><br>\n",
    "Prueba Xepelin</p><br>\n",
    "\n",
    "Se tiene un producto que registra las transacciones de pagos de facturas entre empresas y además, algunos de los montos facturados son financiados por Xepelin. A partir de la información dada se quiere predecir el monto que se pagará a través de este producto en ocutbre del 2021 y cuánto se financiará por Xepelin.\n",
    "\n",
    "Para este ejercicio se realiza un análisis exploratorio de la información, se crean variables dummies a partir de los  top PayerId y ReceiverId en cuánto a la proporción de monto asociado respecto al total historico y se realizan modelos autoregresivos, una regresión multilineal y modelos de regularización con el fin de obtener un estimado de monto para octubre.\n",
    "\n",
    "Finalmente, se realiza una regresión lineal para entender la relación entre el monto y el monto financiado por Xepelin y así dar un estimado del monto financiado por Xepelin para octubre usando el monto estimado anteriormente."
   ]
  },
  {
   "cell_type": "markdown",
   "id": "0bd563e2",
   "metadata": {},
   "source": [
    "<p style=\"font-family: Arial; font-size:1.75em;color:#2462C0; font-style:bold\"><br>\n",
    "Librerías, definición de funciones y lectura de la información\n",
    "</p>"
   ]
  },
  {
   "cell_type": "code",
   "execution_count": 1,
   "id": "20608e67",
   "metadata": {},
   "outputs": [],
   "source": [
    "#import random\n",
    "#from sklearn.tree import DecisionTreeRegressor\n",
    "#from sklearn.model_selection import train_test_split\n",
    "#from math import sqrt"
   ]
  },
  {
   "cell_type": "code",
   "execution_count": 67,
   "id": "be63d07b",
   "metadata": {},
   "outputs": [],
   "source": [
    "!pip install pmdarima\n",
    "\n",
    "# Tratamiento de datos\n",
    "# ==============================================================================\n",
    "import pandas as pd\n",
    "import numpy as np\n",
    "\n",
    "# Gráficos\n",
    "# ==============================================================================\n",
    "import matplotlib.pyplot as plt\n",
    "from matplotlib import style\n",
    "import seaborn as sns\n",
    "\n",
    "# Preprocesado y modelado\n",
    "# ==============================================================================\n",
    "from statsmodels.tsa.ar_model import AutoReg\n",
    "from statsmodels.tsa.stattools import adfuller\n",
    "from statsmodels.graphics.tsaplots import plot_pacf\n",
    "\n",
    "from scipy.stats import pearsonr\n",
    "from sklearn.model_selection import train_test_split\n",
    "from sklearn.metrics import mean_squared_error\n",
    "from sklearn.linear_model import LinearRegression\n",
    "from sklearn.linear_model import Ridge\n",
    "from sklearn.linear_model import Lasso\n",
    "from sklearn.linear_model import ElasticNet\n",
    "from sklearn.linear_model import RidgeCV\n",
    "from sklearn.linear_model import LassoCV\n",
    "from sklearn.linear_model import ElasticNetCV\n",
    "from sklearn.metrics import mean_absolute_percentage_error\n",
    "from sklearn.metrics import mean_squared_error\n",
    "\n",
    "from statsmodels.tsa.arima_model import ARIMA\n",
    "import pmdarima as pm\n",
    "\n",
    "\n",
    "# Configuración warnings\n",
    "# ==============================================================================\n",
    "import warnings\n",
    "warnings.filterwarnings('ignore')\n"
   ]
  },
  {
   "cell_type": "code",
   "execution_count": 29,
   "id": "cee93e0d",
   "metadata": {},
   "outputs": [],
   "source": [
    "# Función correlación entre columnas numéricas\n",
    "def tidy_corr_matrix(corr_mat):\n",
    "    '''\n",
    "    Función para convertir una matriz de correlación de pandas en formato tidy\n",
    "    '''\n",
    "    corr_mat = corr_mat.stack().reset_index()\n",
    "    corr_mat.columns = ['variable_1','variable_2','r']\n",
    "    corr_mat = corr_mat.loc[corr_mat['variable_1'] != corr_mat['variable_2'], :]\n",
    "    corr_mat['abs_r'] = np.abs(corr_mat['r'])\n",
    "    corr_mat = corr_mat.sort_values('abs_r', ascending=False)\n",
    "    \n",
    "    return(corr_mat)\n",
    "\n",
    "# Correlación entre columnas numéricas\n",
    "def tidy_corr_matrix(corr_mat):\n",
    "    '''\n",
    "    Función para convertir una matriz de correlación de pandas en formato tidy\n",
    "    '''\n",
    "    corr_mat = corr_mat.stack().reset_index()\n",
    "    corr_mat.columns = ['variable_1','variable_2','r']\n",
    "    corr_mat = corr_mat.loc[corr_mat['variable_1'] != corr_mat['variable_2'], :]\n",
    "    corr_mat['abs_r'] = np.abs(corr_mat['r'])\n",
    "    corr_mat = corr_mat.sort_values('abs_r', ascending=False)\n",
    "    \n",
    "    return(corr_mat)\n",
    "\n"
   ]
  },
  {
   "cell_type": "code",
   "execution_count": 3,
   "id": "f2f2a007",
   "metadata": {
    "scrolled": true
   },
   "outputs": [
    {
     "data": {
      "text/plain": [
       "(1200, 7)"
      ]
     },
     "execution_count": 3,
     "metadata": {},
     "output_type": "execute_result"
    }
   ],
   "source": [
    "#lectura de la informacion\n",
    "data = pd.read_csv('./data_test2.csv')\n",
    "data.shape"
   ]
  },
  {
   "cell_type": "markdown",
   "id": "61c0e22e",
   "metadata": {},
   "source": [
    "<p style=\"font-family: Arial; font-size:1.75em;color:#2462C0; font-style:bold\"><br>\n",
    "Exploración de la información\n",
    "</p>"
   ]
  },
  {
   "cell_type": "code",
   "execution_count": 4,
   "id": "1f1820c2",
   "metadata": {},
   "outputs": [
    {
     "data": {
      "text/html": [
       "<div>\n",
       "<style scoped>\n",
       "    .dataframe tbody tr th:only-of-type {\n",
       "        vertical-align: middle;\n",
       "    }\n",
       "\n",
       "    .dataframe tbody tr th {\n",
       "        vertical-align: top;\n",
       "    }\n",
       "\n",
       "    .dataframe thead th {\n",
       "        text-align: right;\n",
       "    }\n",
       "</style>\n",
       "<table border=\"1\" class=\"dataframe\">\n",
       "  <thead>\n",
       "    <tr style=\"text-align: right;\">\n",
       "      <th></th>\n",
       "      <th>PayerId</th>\n",
       "      <th>ReceiverId</th>\n",
       "      <th>invoiceId</th>\n",
       "      <th>paidAt</th>\n",
       "      <th>amount</th>\n",
       "      <th>amountfinancedByXepelin</th>\n",
       "      <th>status</th>\n",
       "    </tr>\n",
       "  </thead>\n",
       "  <tbody>\n",
       "    <tr>\n",
       "      <th>0</th>\n",
       "      <td>53</td>\n",
       "      <td>10</td>\n",
       "      <td>18660729</td>\n",
       "      <td>8/23/21 00:00</td>\n",
       "      <td>1490.46</td>\n",
       "      <td>0.00</td>\n",
       "      <td>PAID</td>\n",
       "    </tr>\n",
       "    <tr>\n",
       "      <th>1</th>\n",
       "      <td>93</td>\n",
       "      <td>11</td>\n",
       "      <td>18660730</td>\n",
       "      <td>3/22/21 00:00</td>\n",
       "      <td>6418.28</td>\n",
       "      <td>624.48</td>\n",
       "      <td>PAID</td>\n",
       "    </tr>\n",
       "    <tr>\n",
       "      <th>2</th>\n",
       "      <td>122</td>\n",
       "      <td>12</td>\n",
       "      <td>18660731</td>\n",
       "      <td>2/18/21 00:00</td>\n",
       "      <td>27979.20</td>\n",
       "      <td>10520.15</td>\n",
       "      <td>PAID</td>\n",
       "    </tr>\n",
       "    <tr>\n",
       "      <th>3</th>\n",
       "      <td>85</td>\n",
       "      <td>13</td>\n",
       "      <td>18660732</td>\n",
       "      <td>3/15/21 00:00</td>\n",
       "      <td>183070.77</td>\n",
       "      <td>79421.63</td>\n",
       "      <td>PAID</td>\n",
       "    </tr>\n",
       "    <tr>\n",
       "      <th>4</th>\n",
       "      <td>87</td>\n",
       "      <td>14</td>\n",
       "      <td>18660733</td>\n",
       "      <td>7/23/21 00:00</td>\n",
       "      <td>20532.00</td>\n",
       "      <td>20532.00</td>\n",
       "      <td>PAID</td>\n",
       "    </tr>\n",
       "  </tbody>\n",
       "</table>\n",
       "</div>"
      ],
      "text/plain": [
       "   PayerId  ReceiverId  invoiceId         paidAt     amount  \\\n",
       "0       53          10   18660729  8/23/21 00:00    1490.46   \n",
       "1       93          11   18660730  3/22/21 00:00    6418.28   \n",
       "2      122          12   18660731  2/18/21 00:00   27979.20   \n",
       "3       85          13   18660732  3/15/21 00:00  183070.77   \n",
       "4       87          14   18660733  7/23/21 00:00   20532.00   \n",
       "\n",
       "   amountfinancedByXepelin status  \n",
       "0                     0.00   PAID  \n",
       "1                   624.48   PAID  \n",
       "2                 10520.15   PAID  \n",
       "3                 79421.63   PAID  \n",
       "4                 20532.00   PAID  "
      ]
     },
     "execution_count": 4,
     "metadata": {},
     "output_type": "execute_result"
    }
   ],
   "source": [
    "data.head(5)"
   ]
  },
  {
   "cell_type": "code",
   "execution_count": 5,
   "id": "4d427f3b",
   "metadata": {},
   "outputs": [
    {
     "data": {
      "text/plain": [
       "PayerId                      int64\n",
       "ReceiverId                   int64\n",
       "invoiceId                    int64\n",
       "paidAt                      object\n",
       "amount                     float64\n",
       "amountfinancedByXepelin    float64\n",
       "status                      object\n",
       "dtype: object"
      ]
     },
     "execution_count": 5,
     "metadata": {},
     "output_type": "execute_result"
    }
   ],
   "source": [
    "data.dtypes"
   ]
  },
  {
   "cell_type": "code",
   "execution_count": 6,
   "id": "b8878ed3",
   "metadata": {},
   "outputs": [
    {
     "data": {
      "text/html": [
       "<div>\n",
       "<style scoped>\n",
       "    .dataframe tbody tr th:only-of-type {\n",
       "        vertical-align: middle;\n",
       "    }\n",
       "\n",
       "    .dataframe tbody tr th {\n",
       "        vertical-align: top;\n",
       "    }\n",
       "\n",
       "    .dataframe thead th {\n",
       "        text-align: right;\n",
       "    }\n",
       "</style>\n",
       "<table border=\"1\" class=\"dataframe\">\n",
       "  <thead>\n",
       "    <tr style=\"text-align: right;\">\n",
       "      <th></th>\n",
       "      <th>PayerId</th>\n",
       "      <th>ReceiverId</th>\n",
       "      <th>invoiceId</th>\n",
       "      <th>paidAt</th>\n",
       "      <th>amount</th>\n",
       "      <th>amountfinancedByXepelin</th>\n",
       "      <th>status</th>\n",
       "      <th>Date</th>\n",
       "    </tr>\n",
       "  </thead>\n",
       "  <tbody>\n",
       "    <tr>\n",
       "      <th>9</th>\n",
       "      <td>151</td>\n",
       "      <td>19</td>\n",
       "      <td>18660738</td>\n",
       "      <td>2/8/21 00:00</td>\n",
       "      <td>1490.46</td>\n",
       "      <td>0.00</td>\n",
       "      <td>PAID</td>\n",
       "      <td>2021-02-08</td>\n",
       "    </tr>\n",
       "    <tr>\n",
       "      <th>8</th>\n",
       "      <td>126</td>\n",
       "      <td>18</td>\n",
       "      <td>18660737</td>\n",
       "      <td>2/8/21 00:00</td>\n",
       "      <td>920.26</td>\n",
       "      <td>0.00</td>\n",
       "      <td>PAID</td>\n",
       "      <td>2021-02-08</td>\n",
       "    </tr>\n",
       "    <tr>\n",
       "      <th>15</th>\n",
       "      <td>114</td>\n",
       "      <td>37</td>\n",
       "      <td>18660744</td>\n",
       "      <td>2/15/21 00:00</td>\n",
       "      <td>4035.26</td>\n",
       "      <td>0.00</td>\n",
       "      <td>PAID</td>\n",
       "      <td>2021-02-15</td>\n",
       "    </tr>\n",
       "    <tr>\n",
       "      <th>2</th>\n",
       "      <td>122</td>\n",
       "      <td>12</td>\n",
       "      <td>18660731</td>\n",
       "      <td>2/18/21 00:00</td>\n",
       "      <td>27979.20</td>\n",
       "      <td>10520.15</td>\n",
       "      <td>PAID</td>\n",
       "      <td>2021-02-18</td>\n",
       "    </tr>\n",
       "    <tr>\n",
       "      <th>12</th>\n",
       "      <td>55</td>\n",
       "      <td>34</td>\n",
       "      <td>18660741</td>\n",
       "      <td>3/2/21 00:00</td>\n",
       "      <td>1477.46</td>\n",
       "      <td>0.00</td>\n",
       "      <td>PAID</td>\n",
       "      <td>2021-03-02</td>\n",
       "    </tr>\n",
       "  </tbody>\n",
       "</table>\n",
       "</div>"
      ],
      "text/plain": [
       "    PayerId  ReceiverId  invoiceId         paidAt    amount  \\\n",
       "9       151          19   18660738   2/8/21 00:00   1490.46   \n",
       "8       126          18   18660737   2/8/21 00:00    920.26   \n",
       "15      114          37   18660744  2/15/21 00:00   4035.26   \n",
       "2       122          12   18660731  2/18/21 00:00  27979.20   \n",
       "12       55          34   18660741   3/2/21 00:00   1477.46   \n",
       "\n",
       "    amountfinancedByXepelin status       Date  \n",
       "9                      0.00   PAID 2021-02-08  \n",
       "8                      0.00   PAID 2021-02-08  \n",
       "15                     0.00   PAID 2021-02-15  \n",
       "2                  10520.15   PAID 2021-02-18  \n",
       "12                     0.00   PAID 2021-03-02  "
      ]
     },
     "execution_count": 6,
     "metadata": {},
     "output_type": "execute_result"
    }
   ],
   "source": [
    "#casteo de la fecha\n",
    "data['Date'] = pd.to_datetime(data['paidAt'])\n",
    "data = data.sort_values(by='Date', ascending=True)\n",
    "data.head(5)"
   ]
  },
  {
   "cell_type": "code",
   "execution_count": 7,
   "id": "8f7e5e26",
   "metadata": {},
   "outputs": [
    {
     "name": "stdout",
     "output_type": "stream",
     "text": [
      "Número de registros: 1200\n",
      "Cantidad de PayerId: 200\n",
      "Cantidad de ReceiverId: 77\n",
      "Cantidad de invoiceId: 1200\n",
      "Se tienen los siguientes valores únicos para el campo status: ['PAID', 'PROCESSING', 'FAILED']\n"
     ]
    }
   ],
   "source": [
    "#análisis de valores únicos\n",
    "print('Número de registros:', data.shape[0])\n",
    "print('Cantidad de PayerId:',len(data['PayerId'].unique().tolist()))\n",
    "print('Cantidad de ReceiverId:',len(data['ReceiverId'].unique().tolist()))\n",
    "print('Cantidad de invoiceId:',len(data['invoiceId'].unique().tolist()))\n",
    "print('Se tienen los siguientes valores únicos para el campo status:', data['status'].unique().tolist())\n"
   ]
  },
  {
   "cell_type": "code",
   "execution_count": 8,
   "id": "208339ed",
   "metadata": {},
   "outputs": [
    {
     "data": {
      "text/plain": [
       "PayerId                    False\n",
       "ReceiverId                 False\n",
       "invoiceId                  False\n",
       "paidAt                      True\n",
       "amount                     False\n",
       "amountfinancedByXepelin    False\n",
       "status                     False\n",
       "Date                        True\n",
       "dtype: bool"
      ]
     },
     "execution_count": 8,
     "metadata": {},
     "output_type": "execute_result"
    }
   ],
   "source": [
    "#Campos con entradas en NULL \n",
    "data.isnull().any()"
   ]
  },
  {
   "cell_type": "code",
   "execution_count": 9,
   "id": "6d7c9a6d",
   "metadata": {},
   "outputs": [
    {
     "data": {
      "text/html": [
       "<div>\n",
       "<style scoped>\n",
       "    .dataframe tbody tr th:only-of-type {\n",
       "        vertical-align: middle;\n",
       "    }\n",
       "\n",
       "    .dataframe tbody tr th {\n",
       "        vertical-align: top;\n",
       "    }\n",
       "\n",
       "    .dataframe thead th {\n",
       "        text-align: right;\n",
       "    }\n",
       "</style>\n",
       "<table border=\"1\" class=\"dataframe\">\n",
       "  <thead>\n",
       "    <tr style=\"text-align: right;\">\n",
       "      <th></th>\n",
       "      <th>PayerId</th>\n",
       "      <th>ReceiverId</th>\n",
       "      <th>invoiceId</th>\n",
       "      <th>paidAt</th>\n",
       "      <th>amount</th>\n",
       "      <th>amountfinancedByXepelin</th>\n",
       "      <th>status</th>\n",
       "      <th>Date</th>\n",
       "    </tr>\n",
       "  </thead>\n",
       "  <tbody>\n",
       "    <tr>\n",
       "      <th>721</th>\n",
       "      <td>197</td>\n",
       "      <td>149</td>\n",
       "      <td>18661450</td>\n",
       "      <td>NaN</td>\n",
       "      <td>1490.26</td>\n",
       "      <td>0.00</td>\n",
       "      <td>PROCESSING</td>\n",
       "      <td>NaT</td>\n",
       "    </tr>\n",
       "    <tr>\n",
       "      <th>722</th>\n",
       "      <td>153</td>\n",
       "      <td>11</td>\n",
       "      <td>18661451</td>\n",
       "      <td>NaN</td>\n",
       "      <td>1490.26</td>\n",
       "      <td>0.00</td>\n",
       "      <td>PROCESSING</td>\n",
       "      <td>NaT</td>\n",
       "    </tr>\n",
       "    <tr>\n",
       "      <th>723</th>\n",
       "      <td>143</td>\n",
       "      <td>14</td>\n",
       "      <td>18661452</td>\n",
       "      <td>NaN</td>\n",
       "      <td>9421.52</td>\n",
       "      <td>2416.86</td>\n",
       "      <td>PROCESSING</td>\n",
       "      <td>NaT</td>\n",
       "    </tr>\n",
       "    <tr>\n",
       "      <th>724</th>\n",
       "      <td>195</td>\n",
       "      <td>14</td>\n",
       "      <td>18661453</td>\n",
       "      <td>NaN</td>\n",
       "      <td>4864.20</td>\n",
       "      <td>0.00</td>\n",
       "      <td>PROCESSING</td>\n",
       "      <td>NaT</td>\n",
       "    </tr>\n",
       "    <tr>\n",
       "      <th>725</th>\n",
       "      <td>75</td>\n",
       "      <td>14</td>\n",
       "      <td>18661454</td>\n",
       "      <td>NaN</td>\n",
       "      <td>2581.40</td>\n",
       "      <td>0.00</td>\n",
       "      <td>PROCESSING</td>\n",
       "      <td>NaT</td>\n",
       "    </tr>\n",
       "  </tbody>\n",
       "</table>\n",
       "</div>"
      ],
      "text/plain": [
       "     PayerId  ReceiverId  invoiceId paidAt   amount  amountfinancedByXepelin  \\\n",
       "721      197         149   18661450    NaN  1490.26                     0.00   \n",
       "722      153          11   18661451    NaN  1490.26                     0.00   \n",
       "723      143          14   18661452    NaN  9421.52                  2416.86   \n",
       "724      195          14   18661453    NaN  4864.20                     0.00   \n",
       "725       75          14   18661454    NaN  2581.40                     0.00   \n",
       "\n",
       "         status Date  \n",
       "721  PROCESSING  NaT  \n",
       "722  PROCESSING  NaT  \n",
       "723  PROCESSING  NaT  \n",
       "724  PROCESSING  NaT  \n",
       "725  PROCESSING  NaT  "
      ]
     },
     "execution_count": 9,
     "metadata": {},
     "output_type": "execute_result"
    }
   ],
   "source": [
    "#análisis información en NULL\n",
    "data_facturas_sin_cerrar = data[data['paidAt'].isnull()]\n",
    "data_facturas_sin_cerrar.head()"
   ]
  },
  {
   "cell_type": "code",
   "execution_count": 10,
   "id": "3c8f126a",
   "metadata": {},
   "outputs": [],
   "source": [
    "#información sin null\n",
    "facturas_cerradas = data.dropna()"
   ]
  },
  {
   "cell_type": "markdown",
   "id": "96cf8660",
   "metadata": {},
   "source": [
    "La información que no tiene fecha de pago es aquella que se encuentra en estado PROCESSING o FAILED"
   ]
  },
  {
   "cell_type": "code",
   "execution_count": 11,
   "id": "15425e2f",
   "metadata": {},
   "outputs": [
    {
     "name": "stdout",
     "output_type": "stream",
     "text": [
      "Estado de la información sin fecha de pago asignada:  ['PROCESSING', 'FAILED']\n",
      "Estado de la información con fecha de pago asignada:  ['PAID']\n"
     ]
    }
   ],
   "source": [
    "print('Estado de la información sin fecha de pago asignada: ', data_facturas_sin_cerrar['status'].unique().tolist())\n",
    "print('Estado de la información con fecha de pago asignada: ', facturas_cerradas ['status'].unique().tolist())"
   ]
  },
  {
   "cell_type": "code",
   "execution_count": 12,
   "id": "f36a21ab",
   "metadata": {},
   "outputs": [
    {
     "data": {
      "text/plain": [
       "<AxesSubplot:>"
      ]
     },
     "execution_count": 12,
     "metadata": {},
     "output_type": "execute_result"
    },
    {
     "data": {
      "image/png": "[encoded data removed]",
      "text/plain": [
       "<Figure size 720x360 with 1 Axes>"
      ]
     },
     "metadata": {
      "needs_background": "light"
     },
     "output_type": "display_data"
    }
   ],
   "source": [
    "#histograma del estado de las facturas\n",
    "data['status'].value_counts().plot(kind='bar', figsize=(10,5))"
   ]
  },
  {
   "cell_type": "code",
   "execution_count": 13,
   "id": "fbbb6378",
   "metadata": {},
   "outputs": [
    {
     "name": "stdout",
     "output_type": "stream",
     "text": [
      "Porcentaje de facturas en estado PAID: 0.7433333333333333\n",
      "Porcentaje de facturas en estado PROCESSING: 0.22416666666666665\n",
      "Porcentaje de facturas en estado FAILED: 0.0325\n"
     ]
    }
   ],
   "source": [
    "print('Porcentaje de facturas en estado PAID:', data['status'].value_counts()[0]/data.shape[0])\n",
    "print('Porcentaje de facturas en estado PROCESSING:', data['status'].value_counts()[1]/data.shape[0])\n",
    "print('Porcentaje de facturas en estado FAILED:', data['status'].value_counts()[2]/data.shape[0])"
   ]
  },
  {
   "cell_type": "markdown",
   "id": "0e523d6d",
   "metadata": {},
   "source": [
    "A partir de lo anterior vemos que se tiene una información considerable en estado PROCESSING y que puede ser valiosa para la estimación del monto que se pagará en octubre a través del producto si logramos estimar la probabilidad de de que una factura en proceso se pague en octubre, sin embargo, para esto necesitaríamos por lo menos las fechas en las que se generaron las facturas y no tenemos esta información. \n",
    "\n",
    "Realizaremos los modelos de predicción sobre las facturas cerradas. "
   ]
  },
  {
   "cell_type": "markdown",
   "id": "8c037610",
   "metadata": {},
   "source": [
    "<p style=\"font-family: Arial; font-size:1.75em;color:#2462C0; font-style:bold\"><br>\n",
    "Generacion variables dummies\n",
    "</p>"
   ]
  },
  {
   "cell_type": "code",
   "execution_count": 14,
   "id": "dbf2bb6a",
   "metadata": {},
   "outputs": [
    {
     "data": {
      "text/html": [
       "<div>\n",
       "<style scoped>\n",
       "    .dataframe tbody tr th:only-of-type {\n",
       "        vertical-align: middle;\n",
       "    }\n",
       "\n",
       "    .dataframe tbody tr th {\n",
       "        vertical-align: top;\n",
       "    }\n",
       "\n",
       "    .dataframe thead th {\n",
       "        text-align: right;\n",
       "    }\n",
       "</style>\n",
       "<table border=\"1\" class=\"dataframe\">\n",
       "  <thead>\n",
       "    <tr style=\"text-align: right;\">\n",
       "      <th></th>\n",
       "      <th>PayerId</th>\n",
       "      <th>ReceiverId</th>\n",
       "      <th>invoiceId</th>\n",
       "      <th>paidAt</th>\n",
       "      <th>amount</th>\n",
       "      <th>amountfinancedByXepelin</th>\n",
       "      <th>status</th>\n",
       "      <th>Date</th>\n",
       "    </tr>\n",
       "  </thead>\n",
       "  <tbody>\n",
       "    <tr>\n",
       "      <th>9</th>\n",
       "      <td>151</td>\n",
       "      <td>19</td>\n",
       "      <td>18660738</td>\n",
       "      <td>2/8/21 00:00</td>\n",
       "      <td>1490.46</td>\n",
       "      <td>0.00</td>\n",
       "      <td>PAID</td>\n",
       "      <td>2021-02-08</td>\n",
       "    </tr>\n",
       "    <tr>\n",
       "      <th>8</th>\n",
       "      <td>126</td>\n",
       "      <td>18</td>\n",
       "      <td>18660737</td>\n",
       "      <td>2/8/21 00:00</td>\n",
       "      <td>920.26</td>\n",
       "      <td>0.00</td>\n",
       "      <td>PAID</td>\n",
       "      <td>2021-02-08</td>\n",
       "    </tr>\n",
       "    <tr>\n",
       "      <th>15</th>\n",
       "      <td>114</td>\n",
       "      <td>37</td>\n",
       "      <td>18660744</td>\n",
       "      <td>2/15/21 00:00</td>\n",
       "      <td>4035.26</td>\n",
       "      <td>0.00</td>\n",
       "      <td>PAID</td>\n",
       "      <td>2021-02-15</td>\n",
       "    </tr>\n",
       "    <tr>\n",
       "      <th>2</th>\n",
       "      <td>122</td>\n",
       "      <td>12</td>\n",
       "      <td>18660731</td>\n",
       "      <td>2/18/21 00:00</td>\n",
       "      <td>27979.20</td>\n",
       "      <td>10520.15</td>\n",
       "      <td>PAID</td>\n",
       "      <td>2021-02-18</td>\n",
       "    </tr>\n",
       "    <tr>\n",
       "      <th>12</th>\n",
       "      <td>55</td>\n",
       "      <td>34</td>\n",
       "      <td>18660741</td>\n",
       "      <td>3/2/21 00:00</td>\n",
       "      <td>1477.46</td>\n",
       "      <td>0.00</td>\n",
       "      <td>PAID</td>\n",
       "      <td>2021-03-02</td>\n",
       "    </tr>\n",
       "  </tbody>\n",
       "</table>\n",
       "</div>"
      ],
      "text/plain": [
       "    PayerId  ReceiverId  invoiceId         paidAt    amount  \\\n",
       "9       151          19   18660738   2/8/21 00:00   1490.46   \n",
       "8       126          18   18660737   2/8/21 00:00    920.26   \n",
       "15      114          37   18660744  2/15/21 00:00   4035.26   \n",
       "2       122          12   18660731  2/18/21 00:00  27979.20   \n",
       "12       55          34   18660741   3/2/21 00:00   1477.46   \n",
       "\n",
       "    amountfinancedByXepelin status       Date  \n",
       "9                      0.00   PAID 2021-02-08  \n",
       "8                      0.00   PAID 2021-02-08  \n",
       "15                     0.00   PAID 2021-02-15  \n",
       "2                  10520.15   PAID 2021-02-18  \n",
       "12                     0.00   PAID 2021-03-02  "
      ]
     },
     "execution_count": 14,
     "metadata": {},
     "output_type": "execute_result"
    }
   ],
   "source": [
    "facturas_cerradas.head(5)"
   ]
  },
  {
   "cell_type": "markdown",
   "id": "839fe0ee",
   "metadata": {},
   "source": [
    "Por el momento la única información que tenemos para realizar una estimación del monto son PayerId y ReceiverId. Estas son variables categóricas que necesitamos transformar en variables dummies para poder ser implementadas en los modelos. \n",
    "\n",
    "En el análisis de la información encontramos que se tienen 200 valores únicos para PayerId y 77 para ReceiverId. Para no obtener un agran cantidad de variables dummies y evitar colinealidad entre ellas tomaremos el top 10 de ellos con mayor porcentaje de monto respecto al monto total histórico."
   ]
  },
  {
   "cell_type": "code",
   "execution_count": 15,
   "id": "79c9b4ca",
   "metadata": {},
   "outputs": [
    {
     "name": "stdout",
     "output_type": "stream",
     "text": [
      "Los 10 top PayerId representan el 42.26656091060109 por ciento del monto total\n"
     ]
    }
   ],
   "source": [
    "#Análisis PayerId con mayor porcentaje de monto\n",
    "n = 10\n",
    "monto_por_PayerId = facturas_cerradas[['amount','PayerId']].groupby('PayerId').sum()\n",
    "monto_por_PayerId = monto_por_PayerId.sort_values(by='amount', ascending=False)\n",
    "monto_por_PayerId['cum_percent'] = 100*(monto_por_PayerId['amount'].cumsum() / monto_por_PayerId['amount'].sum())\n",
    "monto_por_PayerId = monto_por_PayerId.reset_index(level=0)\n",
    "top_PayerId = monto_por_PayerId['PayerId'][0:n]\n",
    "\n",
    "print('Los' , n, 'top PayerId representan el',monto_por_PayerId['cum_percent'][n-1],'por ciento del monto total')"
   ]
  },
  {
   "cell_type": "code",
   "execution_count": 16,
   "id": "7c2049a9",
   "metadata": {},
   "outputs": [
    {
     "name": "stdout",
     "output_type": "stream",
     "text": [
      "Los 10 top ReceiverId representan el 57.80019666798369 por ciento del monto total\n"
     ]
    }
   ],
   "source": [
    "#Análisis ReceiverId con mayor porcentaje de monto\n",
    "monto_por_ReceiverId = facturas_cerradas[['amount','ReceiverId']].groupby('ReceiverId').sum()\n",
    "monto_por_ReceiverId = monto_por_ReceiverId.sort_values(by='amount', ascending=False)\n",
    "monto_por_ReceiverId['cum_percent']=100*(monto_por_ReceiverId['amount'].cumsum()/monto_por_ReceiverId['amount'].sum())\n",
    "monto_por_ReceiverId = monto_por_ReceiverId.reset_index(level=0)\n",
    "top_ReceiverId = monto_por_ReceiverId['ReceiverId'][0:n]\n",
    "\n",
    "print('Los' , n,'top ReceiverId representan el',monto_por_ReceiverId['cum_percent'][n-1],'por ciento del monto total')"
   ]
  },
  {
   "cell_type": "markdown",
   "id": "af493b8a",
   "metadata": {},
   "source": [
    "Los PayerId y ReceiverId elegidos representan un porcentaje considerable del monto y pueden ser bastante útiles a la hora de realizar los modelos."
   ]
  },
  {
   "cell_type": "code",
   "execution_count": 17,
   "id": "72dd4f27",
   "metadata": {},
   "outputs": [
    {
     "data": {
      "text/html": [
       "<div>\n",
       "<style scoped>\n",
       "    .dataframe tbody tr th:only-of-type {\n",
       "        vertical-align: middle;\n",
       "    }\n",
       "\n",
       "    .dataframe tbody tr th {\n",
       "        vertical-align: top;\n",
       "    }\n",
       "\n",
       "    .dataframe thead th {\n",
       "        text-align: right;\n",
       "    }\n",
       "</style>\n",
       "<table border=\"1\" class=\"dataframe\">\n",
       "  <thead>\n",
       "    <tr style=\"text-align: right;\">\n",
       "      <th></th>\n",
       "      <th>PayerId</th>\n",
       "      <th>ReceiverId</th>\n",
       "      <th>invoiceId</th>\n",
       "      <th>paidAt</th>\n",
       "      <th>amount</th>\n",
       "      <th>amountfinancedByXepelin</th>\n",
       "      <th>status</th>\n",
       "      <th>Date</th>\n",
       "      <th>top_PayerId</th>\n",
       "      <th>top_ReceiverId</th>\n",
       "    </tr>\n",
       "  </thead>\n",
       "  <tbody>\n",
       "    <tr>\n",
       "      <th>9</th>\n",
       "      <td>151</td>\n",
       "      <td>19</td>\n",
       "      <td>18660738</td>\n",
       "      <td>2/8/21 00:00</td>\n",
       "      <td>1490.46</td>\n",
       "      <td>0.00</td>\n",
       "      <td>PAID</td>\n",
       "      <td>2021-02-08</td>\n",
       "      <td>0</td>\n",
       "      <td>0</td>\n",
       "    </tr>\n",
       "    <tr>\n",
       "      <th>8</th>\n",
       "      <td>126</td>\n",
       "      <td>18</td>\n",
       "      <td>18660737</td>\n",
       "      <td>2/8/21 00:00</td>\n",
       "      <td>920.26</td>\n",
       "      <td>0.00</td>\n",
       "      <td>PAID</td>\n",
       "      <td>2021-02-08</td>\n",
       "      <td>0</td>\n",
       "      <td>0</td>\n",
       "    </tr>\n",
       "    <tr>\n",
       "      <th>15</th>\n",
       "      <td>114</td>\n",
       "      <td>37</td>\n",
       "      <td>18660744</td>\n",
       "      <td>2/15/21 00:00</td>\n",
       "      <td>4035.26</td>\n",
       "      <td>0.00</td>\n",
       "      <td>PAID</td>\n",
       "      <td>2021-02-15</td>\n",
       "      <td>0</td>\n",
       "      <td>0</td>\n",
       "    </tr>\n",
       "    <tr>\n",
       "      <th>2</th>\n",
       "      <td>122</td>\n",
       "      <td>12</td>\n",
       "      <td>18660731</td>\n",
       "      <td>2/18/21 00:00</td>\n",
       "      <td>27979.20</td>\n",
       "      <td>10520.15</td>\n",
       "      <td>PAID</td>\n",
       "      <td>2021-02-18</td>\n",
       "      <td>0</td>\n",
       "      <td>0</td>\n",
       "    </tr>\n",
       "    <tr>\n",
       "      <th>12</th>\n",
       "      <td>55</td>\n",
       "      <td>34</td>\n",
       "      <td>18660741</td>\n",
       "      <td>3/2/21 00:00</td>\n",
       "      <td>1477.46</td>\n",
       "      <td>0.00</td>\n",
       "      <td>PAID</td>\n",
       "      <td>2021-03-02</td>\n",
       "      <td>0</td>\n",
       "      <td>0</td>\n",
       "    </tr>\n",
       "    <tr>\n",
       "      <th>51</th>\n",
       "      <td>159</td>\n",
       "      <td>16</td>\n",
       "      <td>18660780</td>\n",
       "      <td>3/4/21 00:00</td>\n",
       "      <td>8688.40</td>\n",
       "      <td>737.99</td>\n",
       "      <td>PAID</td>\n",
       "      <td>2021-03-04</td>\n",
       "      <td>0</td>\n",
       "      <td>16</td>\n",
       "    </tr>\n",
       "    <tr>\n",
       "      <th>3</th>\n",
       "      <td>85</td>\n",
       "      <td>13</td>\n",
       "      <td>18660732</td>\n",
       "      <td>3/15/21 00:00</td>\n",
       "      <td>183070.77</td>\n",
       "      <td>79421.63</td>\n",
       "      <td>PAID</td>\n",
       "      <td>2021-03-15</td>\n",
       "      <td>0</td>\n",
       "      <td>0</td>\n",
       "    </tr>\n",
       "    <tr>\n",
       "      <th>54</th>\n",
       "      <td>47</td>\n",
       "      <td>79</td>\n",
       "      <td>18660783</td>\n",
       "      <td>3/16/21 00:00</td>\n",
       "      <td>7267.40</td>\n",
       "      <td>988.02</td>\n",
       "      <td>PAID</td>\n",
       "      <td>2021-03-16</td>\n",
       "      <td>0</td>\n",
       "      <td>0</td>\n",
       "    </tr>\n",
       "    <tr>\n",
       "      <th>49</th>\n",
       "      <td>145</td>\n",
       "      <td>89</td>\n",
       "      <td>18660778</td>\n",
       "      <td>3/16/21 00:00</td>\n",
       "      <td>6380.00</td>\n",
       "      <td>6380.00</td>\n",
       "      <td>PAID</td>\n",
       "      <td>2021-03-16</td>\n",
       "      <td>0</td>\n",
       "      <td>0</td>\n",
       "    </tr>\n",
       "    <tr>\n",
       "      <th>18</th>\n",
       "      <td>125</td>\n",
       "      <td>44</td>\n",
       "      <td>18660747</td>\n",
       "      <td>3/16/21 00:00</td>\n",
       "      <td>6635.20</td>\n",
       "      <td>516.70</td>\n",
       "      <td>PAID</td>\n",
       "      <td>2021-03-16</td>\n",
       "      <td>0</td>\n",
       "      <td>0</td>\n",
       "    </tr>\n",
       "  </tbody>\n",
       "</table>\n",
       "</div>"
      ],
      "text/plain": [
       "    PayerId  ReceiverId  invoiceId         paidAt     amount  \\\n",
       "9       151          19   18660738   2/8/21 00:00    1490.46   \n",
       "8       126          18   18660737   2/8/21 00:00     920.26   \n",
       "15      114          37   18660744  2/15/21 00:00    4035.26   \n",
       "2       122          12   18660731  2/18/21 00:00   27979.20   \n",
       "12       55          34   18660741   3/2/21 00:00    1477.46   \n",
       "51      159          16   18660780   3/4/21 00:00    8688.40   \n",
       "3        85          13   18660732  3/15/21 00:00  183070.77   \n",
       "54       47          79   18660783  3/16/21 00:00    7267.40   \n",
       "49      145          89   18660778  3/16/21 00:00    6380.00   \n",
       "18      125          44   18660747  3/16/21 00:00    6635.20   \n",
       "\n",
       "    amountfinancedByXepelin status       Date  top_PayerId  top_ReceiverId  \n",
       "9                      0.00   PAID 2021-02-08            0               0  \n",
       "8                      0.00   PAID 2021-02-08            0               0  \n",
       "15                     0.00   PAID 2021-02-15            0               0  \n",
       "2                  10520.15   PAID 2021-02-18            0               0  \n",
       "12                     0.00   PAID 2021-03-02            0               0  \n",
       "51                   737.99   PAID 2021-03-04            0              16  \n",
       "3                  79421.63   PAID 2021-03-15            0               0  \n",
       "54                   988.02   PAID 2021-03-16            0               0  \n",
       "49                  6380.00   PAID 2021-03-16            0               0  \n",
       "18                   516.70   PAID 2021-03-16            0               0  "
      ]
     },
     "execution_count": 17,
     "metadata": {},
     "output_type": "execute_result"
    }
   ],
   "source": [
    "#Creación de variables top_PayerId y op_ReceiverId\n",
    "# estas variables tienen entrada el ID correspondiente si pertenece a la lista top y 0 en caso contrario\n",
    "column_PayerId = np.where(facturas_cerradas['PayerId'].isin(top_PayerId), facturas_cerradas['PayerId'], 0)\n",
    "column_ReceiverId  = np.where(facturas_cerradas['ReceiverId'].isin(top_ReceiverId), facturas_cerradas['ReceiverId'],0)\n",
    "facturas_cerradas['top_PayerId'] = column_PayerId\n",
    "facturas_cerradas['top_ReceiverId'] = column_ReceiverId\n",
    "facturas_cerradas.head(10)"
   ]
  },
  {
   "cell_type": "code",
   "execution_count": 18,
   "id": "0a26cb4c",
   "metadata": {},
   "outputs": [
    {
     "data": {
      "text/html": [
       "<div>\n",
       "<style scoped>\n",
       "    .dataframe tbody tr th:only-of-type {\n",
       "        vertical-align: middle;\n",
       "    }\n",
       "\n",
       "    .dataframe tbody tr th {\n",
       "        vertical-align: top;\n",
       "    }\n",
       "\n",
       "    .dataframe thead th {\n",
       "        text-align: right;\n",
       "    }\n",
       "</style>\n",
       "<table border=\"1\" class=\"dataframe\">\n",
       "  <thead>\n",
       "    <tr style=\"text-align: right;\">\n",
       "      <th></th>\n",
       "      <th>Date</th>\n",
       "      <th>amount</th>\n",
       "      <th>amountfinancedByXepelin</th>\n",
       "      <th>top_PayerId_7</th>\n",
       "      <th>top_PayerId_8</th>\n",
       "      <th>top_PayerId_66</th>\n",
       "      <th>top_PayerId_67</th>\n",
       "      <th>top_PayerId_106</th>\n",
       "      <th>top_PayerId_109</th>\n",
       "      <th>top_PayerId_157</th>\n",
       "      <th>...</th>\n",
       "      <th>top_ReceiverId_14</th>\n",
       "      <th>top_ReceiverId_16</th>\n",
       "      <th>top_ReceiverId_21</th>\n",
       "      <th>top_ReceiverId_35</th>\n",
       "      <th>top_ReceiverId_46</th>\n",
       "      <th>top_ReceiverId_58</th>\n",
       "      <th>top_ReceiverId_85</th>\n",
       "      <th>top_ReceiverId_87</th>\n",
       "      <th>top_ReceiverId_126</th>\n",
       "      <th>top_ReceiverId_135</th>\n",
       "    </tr>\n",
       "  </thead>\n",
       "  <tbody>\n",
       "    <tr>\n",
       "      <th>9</th>\n",
       "      <td>2021-02-08</td>\n",
       "      <td>1490.46</td>\n",
       "      <td>0.00</td>\n",
       "      <td>0</td>\n",
       "      <td>0</td>\n",
       "      <td>0</td>\n",
       "      <td>0</td>\n",
       "      <td>0</td>\n",
       "      <td>0</td>\n",
       "      <td>0</td>\n",
       "      <td>...</td>\n",
       "      <td>0</td>\n",
       "      <td>0</td>\n",
       "      <td>0</td>\n",
       "      <td>0</td>\n",
       "      <td>0</td>\n",
       "      <td>0</td>\n",
       "      <td>0</td>\n",
       "      <td>0</td>\n",
       "      <td>0</td>\n",
       "      <td>0</td>\n",
       "    </tr>\n",
       "    <tr>\n",
       "      <th>8</th>\n",
       "      <td>2021-02-08</td>\n",
       "      <td>920.26</td>\n",
       "      <td>0.00</td>\n",
       "      <td>0</td>\n",
       "      <td>0</td>\n",
       "      <td>0</td>\n",
       "      <td>0</td>\n",
       "      <td>0</td>\n",
       "      <td>0</td>\n",
       "      <td>0</td>\n",
       "      <td>...</td>\n",
       "      <td>0</td>\n",
       "      <td>0</td>\n",
       "      <td>0</td>\n",
       "      <td>0</td>\n",
       "      <td>0</td>\n",
       "      <td>0</td>\n",
       "      <td>0</td>\n",
       "      <td>0</td>\n",
       "      <td>0</td>\n",
       "      <td>0</td>\n",
       "    </tr>\n",
       "    <tr>\n",
       "      <th>15</th>\n",
       "      <td>2021-02-15</td>\n",
       "      <td>4035.26</td>\n",
       "      <td>0.00</td>\n",
       "      <td>0</td>\n",
       "      <td>0</td>\n",
       "      <td>0</td>\n",
       "      <td>0</td>\n",
       "      <td>0</td>\n",
       "      <td>0</td>\n",
       "      <td>0</td>\n",
       "      <td>...</td>\n",
       "      <td>0</td>\n",
       "      <td>0</td>\n",
       "      <td>0</td>\n",
       "      <td>0</td>\n",
       "      <td>0</td>\n",
       "      <td>0</td>\n",
       "      <td>0</td>\n",
       "      <td>0</td>\n",
       "      <td>0</td>\n",
       "      <td>0</td>\n",
       "    </tr>\n",
       "    <tr>\n",
       "      <th>2</th>\n",
       "      <td>2021-02-18</td>\n",
       "      <td>27979.20</td>\n",
       "      <td>10520.15</td>\n",
       "      <td>0</td>\n",
       "      <td>0</td>\n",
       "      <td>0</td>\n",
       "      <td>0</td>\n",
       "      <td>0</td>\n",
       "      <td>0</td>\n",
       "      <td>0</td>\n",
       "      <td>...</td>\n",
       "      <td>0</td>\n",
       "      <td>0</td>\n",
       "      <td>0</td>\n",
       "      <td>0</td>\n",
       "      <td>0</td>\n",
       "      <td>0</td>\n",
       "      <td>0</td>\n",
       "      <td>0</td>\n",
       "      <td>0</td>\n",
       "      <td>0</td>\n",
       "    </tr>\n",
       "    <tr>\n",
       "      <th>12</th>\n",
       "      <td>2021-03-02</td>\n",
       "      <td>1477.46</td>\n",
       "      <td>0.00</td>\n",
       "      <td>0</td>\n",
       "      <td>0</td>\n",
       "      <td>0</td>\n",
       "      <td>0</td>\n",
       "      <td>0</td>\n",
       "      <td>0</td>\n",
       "      <td>0</td>\n",
       "      <td>...</td>\n",
       "      <td>0</td>\n",
       "      <td>0</td>\n",
       "      <td>0</td>\n",
       "      <td>0</td>\n",
       "      <td>0</td>\n",
       "      <td>0</td>\n",
       "      <td>0</td>\n",
       "      <td>0</td>\n",
       "      <td>0</td>\n",
       "      <td>0</td>\n",
       "    </tr>\n",
       "  </tbody>\n",
       "</table>\n",
       "<p>5 rows × 23 columns</p>\n",
       "</div>"
      ],
      "text/plain": [
       "         Date    amount  amountfinancedByXepelin  top_PayerId_7  \\\n",
       "9  2021-02-08   1490.46                     0.00              0   \n",
       "8  2021-02-08    920.26                     0.00              0   \n",
       "15 2021-02-15   4035.26                     0.00              0   \n",
       "2  2021-02-18  27979.20                 10520.15              0   \n",
       "12 2021-03-02   1477.46                     0.00              0   \n",
       "\n",
       "    top_PayerId_8  top_PayerId_66  top_PayerId_67  top_PayerId_106  \\\n",
       "9               0               0               0                0   \n",
       "8               0               0               0                0   \n",
       "15              0               0               0                0   \n",
       "2               0               0               0                0   \n",
       "12              0               0               0                0   \n",
       "\n",
       "    top_PayerId_109  top_PayerId_157  ...  top_ReceiverId_14  \\\n",
       "9                 0                0  ...                  0   \n",
       "8                 0                0  ...                  0   \n",
       "15                0                0  ...                  0   \n",
       "2                 0                0  ...                  0   \n",
       "12                0                0  ...                  0   \n",
       "\n",
       "    top_ReceiverId_16  top_ReceiverId_21  top_ReceiverId_35  \\\n",
       "9                   0                  0                  0   \n",
       "8                   0                  0                  0   \n",
       "15                  0                  0                  0   \n",
       "2                   0                  0                  0   \n",
       "12                  0                  0                  0   \n",
       "\n",
       "    top_ReceiverId_46  top_ReceiverId_58  top_ReceiverId_85  \\\n",
       "9                   0                  0                  0   \n",
       "8                   0                  0                  0   \n",
       "15                  0                  0                  0   \n",
       "2                   0                  0                  0   \n",
       "12                  0                  0                  0   \n",
       "\n",
       "    top_ReceiverId_87  top_ReceiverId_126  top_ReceiverId_135  \n",
       "9                   0                   0                   0  \n",
       "8                   0                   0                   0  \n",
       "15                  0                   0                   0  \n",
       "2                   0                   0                   0  \n",
       "12                  0                   0                   0  \n",
       "\n",
       "[5 rows x 23 columns]"
      ]
     },
     "execution_count": 18,
     "metadata": {},
     "output_type": "execute_result"
    }
   ],
   "source": [
    "#Creación de variables dummies \n",
    "data_model = facturas_cerradas[['Date', 'top_PayerId', 'top_ReceiverId', 'amount', 'amountfinancedByXepelin']]\n",
    "data_model= pd.get_dummies(data=data_model, columns=['top_PayerId', 'top_ReceiverId'])\n",
    "data_model = data_model.drop(columns=['top_PayerId_0', 'top_ReceiverId_0'])\n",
    "data_model.head(5)"
   ]
  },
  {
   "cell_type": "markdown",
   "id": "d3acf0e7",
   "metadata": {},
   "source": [
    "<p style=\"font-family: Arial; font-size:1.75em;color:#2462C0; font-style:bold\"><br>\n",
    "Preparación data\n",
    "</p>"
   ]
  },
  {
   "cell_type": "markdown",
   "id": "baa21318",
   "metadata": {},
   "source": [
    "Con el fin de tener un histórico continuo se realiza una agrupación de las variables por día y se completan con 0 los días en que no hubo pago de facturas."
   ]
  },
  {
   "cell_type": "code",
   "execution_count": 19,
   "id": "2381231e",
   "metadata": {
    "scrolled": false
   },
   "outputs": [
    {
     "data": {
      "text/html": [
       "<div>\n",
       "<style scoped>\n",
       "    .dataframe tbody tr th:only-of-type {\n",
       "        vertical-align: middle;\n",
       "    }\n",
       "\n",
       "    .dataframe tbody tr th {\n",
       "        vertical-align: top;\n",
       "    }\n",
       "\n",
       "    .dataframe thead th {\n",
       "        text-align: right;\n",
       "    }\n",
       "</style>\n",
       "<table border=\"1\" class=\"dataframe\">\n",
       "  <thead>\n",
       "    <tr style=\"text-align: right;\">\n",
       "      <th></th>\n",
       "      <th>Date</th>\n",
       "      <th>amount</th>\n",
       "      <th>amountfinancedByXepelin</th>\n",
       "      <th>top_PayerId_7</th>\n",
       "      <th>top_PayerId_8</th>\n",
       "      <th>top_PayerId_66</th>\n",
       "      <th>top_PayerId_67</th>\n",
       "      <th>top_PayerId_106</th>\n",
       "      <th>top_PayerId_109</th>\n",
       "      <th>top_PayerId_157</th>\n",
       "      <th>...</th>\n",
       "      <th>top_ReceiverId_14</th>\n",
       "      <th>top_ReceiverId_16</th>\n",
       "      <th>top_ReceiverId_21</th>\n",
       "      <th>top_ReceiverId_35</th>\n",
       "      <th>top_ReceiverId_46</th>\n",
       "      <th>top_ReceiverId_58</th>\n",
       "      <th>top_ReceiverId_85</th>\n",
       "      <th>top_ReceiverId_87</th>\n",
       "      <th>top_ReceiverId_126</th>\n",
       "      <th>top_ReceiverId_135</th>\n",
       "    </tr>\n",
       "  </thead>\n",
       "  <tbody>\n",
       "    <tr>\n",
       "      <th>0</th>\n",
       "      <td>2021-02-08</td>\n",
       "      <td>2410.72</td>\n",
       "      <td>0.0</td>\n",
       "      <td>0.0</td>\n",
       "      <td>0.0</td>\n",
       "      <td>0.0</td>\n",
       "      <td>0.0</td>\n",
       "      <td>0.0</td>\n",
       "      <td>0.0</td>\n",
       "      <td>0.0</td>\n",
       "      <td>...</td>\n",
       "      <td>0.0</td>\n",
       "      <td>0.0</td>\n",
       "      <td>0.0</td>\n",
       "      <td>0.0</td>\n",
       "      <td>0.0</td>\n",
       "      <td>0.0</td>\n",
       "      <td>0.0</td>\n",
       "      <td>0.0</td>\n",
       "      <td>0.0</td>\n",
       "      <td>0.0</td>\n",
       "    </tr>\n",
       "    <tr>\n",
       "      <th>1</th>\n",
       "      <td>2021-02-09</td>\n",
       "      <td>0.00</td>\n",
       "      <td>0.0</td>\n",
       "      <td>0.0</td>\n",
       "      <td>0.0</td>\n",
       "      <td>0.0</td>\n",
       "      <td>0.0</td>\n",
       "      <td>0.0</td>\n",
       "      <td>0.0</td>\n",
       "      <td>0.0</td>\n",
       "      <td>...</td>\n",
       "      <td>0.0</td>\n",
       "      <td>0.0</td>\n",
       "      <td>0.0</td>\n",
       "      <td>0.0</td>\n",
       "      <td>0.0</td>\n",
       "      <td>0.0</td>\n",
       "      <td>0.0</td>\n",
       "      <td>0.0</td>\n",
       "      <td>0.0</td>\n",
       "      <td>0.0</td>\n",
       "    </tr>\n",
       "    <tr>\n",
       "      <th>2</th>\n",
       "      <td>2021-02-10</td>\n",
       "      <td>0.00</td>\n",
       "      <td>0.0</td>\n",
       "      <td>0.0</td>\n",
       "      <td>0.0</td>\n",
       "      <td>0.0</td>\n",
       "      <td>0.0</td>\n",
       "      <td>0.0</td>\n",
       "      <td>0.0</td>\n",
       "      <td>0.0</td>\n",
       "      <td>...</td>\n",
       "      <td>0.0</td>\n",
       "      <td>0.0</td>\n",
       "      <td>0.0</td>\n",
       "      <td>0.0</td>\n",
       "      <td>0.0</td>\n",
       "      <td>0.0</td>\n",
       "      <td>0.0</td>\n",
       "      <td>0.0</td>\n",
       "      <td>0.0</td>\n",
       "      <td>0.0</td>\n",
       "    </tr>\n",
       "    <tr>\n",
       "      <th>3</th>\n",
       "      <td>2021-02-11</td>\n",
       "      <td>0.00</td>\n",
       "      <td>0.0</td>\n",
       "      <td>0.0</td>\n",
       "      <td>0.0</td>\n",
       "      <td>0.0</td>\n",
       "      <td>0.0</td>\n",
       "      <td>0.0</td>\n",
       "      <td>0.0</td>\n",
       "      <td>0.0</td>\n",
       "      <td>...</td>\n",
       "      <td>0.0</td>\n",
       "      <td>0.0</td>\n",
       "      <td>0.0</td>\n",
       "      <td>0.0</td>\n",
       "      <td>0.0</td>\n",
       "      <td>0.0</td>\n",
       "      <td>0.0</td>\n",
       "      <td>0.0</td>\n",
       "      <td>0.0</td>\n",
       "      <td>0.0</td>\n",
       "    </tr>\n",
       "    <tr>\n",
       "      <th>4</th>\n",
       "      <td>2021-02-12</td>\n",
       "      <td>0.00</td>\n",
       "      <td>0.0</td>\n",
       "      <td>0.0</td>\n",
       "      <td>0.0</td>\n",
       "      <td>0.0</td>\n",
       "      <td>0.0</td>\n",
       "      <td>0.0</td>\n",
       "      <td>0.0</td>\n",
       "      <td>0.0</td>\n",
       "      <td>...</td>\n",
       "      <td>0.0</td>\n",
       "      <td>0.0</td>\n",
       "      <td>0.0</td>\n",
       "      <td>0.0</td>\n",
       "      <td>0.0</td>\n",
       "      <td>0.0</td>\n",
       "      <td>0.0</td>\n",
       "      <td>0.0</td>\n",
       "      <td>0.0</td>\n",
       "      <td>0.0</td>\n",
       "    </tr>\n",
       "  </tbody>\n",
       "</table>\n",
       "<p>5 rows × 23 columns</p>\n",
       "</div>"
      ],
      "text/plain": [
       "        Date   amount  amountfinancedByXepelin  top_PayerId_7  top_PayerId_8  \\\n",
       "0 2021-02-08  2410.72                      0.0            0.0            0.0   \n",
       "1 2021-02-09     0.00                      0.0            0.0            0.0   \n",
       "2 2021-02-10     0.00                      0.0            0.0            0.0   \n",
       "3 2021-02-11     0.00                      0.0            0.0            0.0   \n",
       "4 2021-02-12     0.00                      0.0            0.0            0.0   \n",
       "\n",
       "   top_PayerId_66  top_PayerId_67  top_PayerId_106  top_PayerId_109  \\\n",
       "0             0.0             0.0              0.0              0.0   \n",
       "1             0.0             0.0              0.0              0.0   \n",
       "2             0.0             0.0              0.0              0.0   \n",
       "3             0.0             0.0              0.0              0.0   \n",
       "4             0.0             0.0              0.0              0.0   \n",
       "\n",
       "   top_PayerId_157  ...  top_ReceiverId_14  top_ReceiverId_16  \\\n",
       "0              0.0  ...                0.0                0.0   \n",
       "1              0.0  ...                0.0                0.0   \n",
       "2              0.0  ...                0.0                0.0   \n",
       "3              0.0  ...                0.0                0.0   \n",
       "4              0.0  ...                0.0                0.0   \n",
       "\n",
       "   top_ReceiverId_21  top_ReceiverId_35  top_ReceiverId_46  top_ReceiverId_58  \\\n",
       "0                0.0                0.0                0.0                0.0   \n",
       "1                0.0                0.0                0.0                0.0   \n",
       "2                0.0                0.0                0.0                0.0   \n",
       "3                0.0                0.0                0.0                0.0   \n",
       "4                0.0                0.0                0.0                0.0   \n",
       "\n",
       "   top_ReceiverId_85  top_ReceiverId_87  top_ReceiverId_126  \\\n",
       "0                0.0                0.0                 0.0   \n",
       "1                0.0                0.0                 0.0   \n",
       "2                0.0                0.0                 0.0   \n",
       "3                0.0                0.0                 0.0   \n",
       "4                0.0                0.0                 0.0   \n",
       "\n",
       "   top_ReceiverId_135  \n",
       "0                 0.0  \n",
       "1                 0.0  \n",
       "2                 0.0  \n",
       "3                 0.0  \n",
       "4                 0.0  \n",
       "\n",
       "[5 rows x 23 columns]"
      ]
     },
     "execution_count": 19,
     "metadata": {},
     "output_type": "execute_result"
    }
   ],
   "source": [
    "data_model = data_model.groupby('Date', as_index=False).sum()\n",
    "data_model  = (data_model .set_index('Date')\n",
    "      .reindex(pd.date_range(min(data_model ['Date']), max(data_model ['Date']), freq='D'))\n",
    "      .rename_axis(['Date'])\n",
    "      .fillna(0)\n",
    "      .reset_index())\n",
    "data_model.head(5)"
   ]
  },
  {
   "cell_type": "code",
   "execution_count": 20,
   "id": "4987f51a",
   "metadata": {
    "scrolled": false
   },
   "outputs": [
    {
     "data": {
      "text/plain": [
       "<AxesSubplot:xlabel='Date'>"
      ]
     },
     "execution_count": 20,
     "metadata": {},
     "output_type": "execute_result"
    },
    {
     "data": {
      "image/png": "[encoded data removed]",
      "text/plain": [
       "<Figure size 864x576 with 1 Axes>"
      ]
     },
     "metadata": {
      "needs_background": "light"
     },
     "output_type": "display_data"
    }
   ],
   "source": [
    "# Gráfico de monto pagado por día\n",
    "data_model.plot(x='Date', y=['amount', 'amountfinancedByXepelin'], figsize=(12,8), grid=True)"
   ]
  },
  {
   "cell_type": "markdown",
   "id": "1dff11d8",
   "metadata": {},
   "source": [
    "Una manera de suavizar la variable a predecir es agrupar los montos semanalmente, de este modo podría verse una tendencia o estacionalidad más clara de la variable y también se evitarían los ceros presentes en el histórico diario. La desventaja en este caso es que tendríamos menos registros, pero es una buena opción para intentar realizar los modelos."
   ]
  },
  {
   "cell_type": "code",
   "execution_count": 21,
   "id": "fa2b80b0",
   "metadata": {},
   "outputs": [
    {
     "data": {
      "text/plain": [
       "<AxesSubplot:xlabel='Date'>"
      ]
     },
     "execution_count": 21,
     "metadata": {},
     "output_type": "execute_result"
    },
    {
     "data": {
      "image/png": "[encoded data removed]",
      "text/plain": [
       "<Figure size 864x576 with 1 Axes>"
      ]
     },
     "metadata": {
      "needs_background": "light"
     },
     "output_type": "display_data"
    }
   ],
   "source": [
    "#data semanal\n",
    "data_model_week = data_model.resample('W', on='Date')['amount','amountfinancedByXepelin'].sum()\n",
    "data_model_week = data_model_week.reset_index(level=0)\n",
    "data_model_week.plot(x='Date', y=['amount', 'amountfinancedByXepelin'], figsize=(12,8), grid=True)"
   ]
  },
  {
   "cell_type": "markdown",
   "id": "c76fac03",
   "metadata": {},
   "source": [
    "En la gráfica de los montos diarios se ve la presencia de outliers pero no serán removidos o sustituidos ya que marcan la tendencia decreciente del monto y podrían ser explicados por las variables dummies construidas. "
   ]
  },
  {
   "cell_type": "markdown",
   "id": "e1052841",
   "metadata": {},
   "source": [
    "<p style=\"font-family: Arial; font-size:1.75em;color:#2462C0; font-style:bold\"><br>\n",
    "Modelos usando data diaria\n",
    "</p>"
   ]
  },
  {
   "cell_type": "markdown",
   "id": "25af04d2",
   "metadata": {},
   "source": [
    "A continuación se construyen diferentes modelos autoregresivos y de regularización. Para hacerlos comparables y elegir el \"mejor modelo\" se toman los mismos intervalos de entrenamiento y test y se comparan a partir de los MAPE obtenidos. Como nos interesa hacer la predicción de los montos para octubre los MAPE serán calculados mensualmente.\n",
    "\n",
    "El entrenamiento se hará de febrero a julio y el test en agosto y septiembre."
   ]
  },
  {
   "cell_type": "markdown",
   "id": "b8b23541",
   "metadata": {},
   "source": [
    "## ARIMAS"
   ]
  },
  {
   "cell_type": "markdown",
   "id": "4abf7f31",
   "metadata": {},
   "source": [
    "Se realizan modelos arima con la información diaria usando valores del 0 al 9 para el parametro lag y se comparan los errores de ajuste de entrenamiento y test entre ellos a partir de los valores agregados mensualmente."
   ]
  },
  {
   "cell_type": "code",
   "execution_count": 676,
   "id": "3cedf54f",
   "metadata": {},
   "outputs": [],
   "source": [
    "#from pandas.plotting import lag_plot\n",
    "#series = data_model['amount']\n",
    "#lag_plot(series)\n",
    "#plt.show()"
   ]
  },
  {
   "cell_type": "code",
   "execution_count": 22,
   "id": "5d9c97cb",
   "metadata": {},
   "outputs": [
    {
     "name": "stdout",
     "output_type": "stream",
     "text": [
      "P-value:  1.6386333822058034e-28\n"
     ]
    }
   ],
   "source": [
    "df_stationarityTest = adfuller(data_model['amount'], autolag='AIC')\n",
    "print(\"P-value: \", df_stationarityTest[1])"
   ]
  },
  {
   "cell_type": "code",
   "execution_count": 23,
   "id": "1a9f39f9",
   "metadata": {
    "scrolled": false
   },
   "outputs": [
    {
     "data": {
      "image/png": "[encoded data removed]",
      "text/plain": [
       "<Figure size 432x288 with 1 Axes>"
      ]
     },
     "metadata": {
      "needs_background": "light"
     },
     "output_type": "display_data"
    }
   ],
   "source": [
    "pacf = plot_pacf(data_model['amount'], lags=25)"
   ]
  },
  {
   "cell_type": "code",
   "execution_count": 24,
   "id": "d63d29ef",
   "metadata": {},
   "outputs": [
    {
     "data": {
      "text/html": [
       "<div>\n",
       "<style scoped>\n",
       "    .dataframe tbody tr th:only-of-type {\n",
       "        vertical-align: middle;\n",
       "    }\n",
       "\n",
       "    .dataframe tbody tr th {\n",
       "        vertical-align: top;\n",
       "    }\n",
       "\n",
       "    .dataframe thead th {\n",
       "        text-align: right;\n",
       "    }\n",
       "</style>\n",
       "<table border=\"1\" class=\"dataframe\">\n",
       "  <thead>\n",
       "    <tr style=\"text-align: right;\">\n",
       "      <th></th>\n",
       "      <th>amount</th>\n",
       "    </tr>\n",
       "    <tr>\n",
       "      <th>Mes</th>\n",
       "      <th></th>\n",
       "    </tr>\n",
       "  </thead>\n",
       "  <tbody>\n",
       "    <tr>\n",
       "      <th>2</th>\n",
       "      <td>34425.18</td>\n",
       "    </tr>\n",
       "    <tr>\n",
       "      <th>3</th>\n",
       "      <td>269826.65</td>\n",
       "    </tr>\n",
       "    <tr>\n",
       "      <th>4</th>\n",
       "      <td>429642.39</td>\n",
       "    </tr>\n",
       "    <tr>\n",
       "      <th>5</th>\n",
       "      <td>5806452.68</td>\n",
       "    </tr>\n",
       "    <tr>\n",
       "      <th>6</th>\n",
       "      <td>6469632.61</td>\n",
       "    </tr>\n",
       "    <tr>\n",
       "      <th>7</th>\n",
       "      <td>5765920.25</td>\n",
       "    </tr>\n",
       "    <tr>\n",
       "      <th>8</th>\n",
       "      <td>5044795.41</td>\n",
       "    </tr>\n",
       "    <tr>\n",
       "      <th>9</th>\n",
       "      <td>1178392.90</td>\n",
       "    </tr>\n",
       "  </tbody>\n",
       "</table>\n",
       "</div>"
      ],
      "text/plain": [
       "         amount\n",
       "Mes            \n",
       "2      34425.18\n",
       "3     269826.65\n",
       "4     429642.39\n",
       "5    5806452.68\n",
       "6    6469632.61\n",
       "7    5765920.25\n",
       "8    5044795.41\n",
       "9    1178392.90"
      ]
     },
     "execution_count": 24,
     "metadata": {},
     "output_type": "execute_result"
    }
   ],
   "source": [
    "#Cálculo de data mensual real\n",
    "data_model['Mes'] = data_model['Date'].dt.month \n",
    "monto_mensual = data_model[['Mes', 'amount']].groupby('Mes').sum()\n",
    "monto_mensual"
   ]
  },
  {
   "cell_type": "code",
   "execution_count": 25,
   "id": "af51f04f",
   "metadata": {},
   "outputs": [],
   "source": [
    "#partición de información en entrenamiento y test\n",
    "date_test = '2021-08-01'\n",
    "date_test_index = data_model[data_model['Date'] == date_test].index.astype(int)[0]\n",
    "train_data = data_model['amount'][:date_test_index]\n",
    "test_data = data_model['amount'][date_test_index:]"
   ]
  },
  {
   "cell_type": "code",
   "execution_count": 26,
   "id": "ab882eff",
   "metadata": {},
   "outputs": [
    {
     "data": {
      "text/html": [
       "<div>\n",
       "<style scoped>\n",
       "    .dataframe tbody tr th:only-of-type {\n",
       "        vertical-align: middle;\n",
       "    }\n",
       "\n",
       "    .dataframe tbody tr th {\n",
       "        vertical-align: top;\n",
       "    }\n",
       "\n",
       "    .dataframe thead th {\n",
       "        text-align: right;\n",
       "    }\n",
       "</style>\n",
       "<table border=\"1\" class=\"dataframe\">\n",
       "  <thead>\n",
       "    <tr style=\"text-align: right;\">\n",
       "      <th></th>\n",
       "      <th>MAPE_train</th>\n",
       "      <th>MAPE_test</th>\n",
       "    </tr>\n",
       "  </thead>\n",
       "  <tbody>\n",
       "    <tr>\n",
       "      <th>0</th>\n",
       "      <td>14.016827</td>\n",
       "      <td>0.996247</td>\n",
       "    </tr>\n",
       "    <tr>\n",
       "      <th>1</th>\n",
       "      <td>14.672134</td>\n",
       "      <td>1.001462</td>\n",
       "    </tr>\n",
       "    <tr>\n",
       "      <th>2</th>\n",
       "      <td>13.630934</td>\n",
       "      <td>1.000582</td>\n",
       "    </tr>\n",
       "    <tr>\n",
       "      <th>3</th>\n",
       "      <td>12.279357</td>\n",
       "      <td>0.996439</td>\n",
       "    </tr>\n",
       "    <tr>\n",
       "      <th>4</th>\n",
       "      <td>12.085261</td>\n",
       "      <td>1.000509</td>\n",
       "    </tr>\n",
       "    <tr>\n",
       "      <th>5</th>\n",
       "      <td>12.196880</td>\n",
       "      <td>1.007012</td>\n",
       "    </tr>\n",
       "    <tr>\n",
       "      <th>6</th>\n",
       "      <td>12.222035</td>\n",
       "      <td>1.013119</td>\n",
       "    </tr>\n",
       "    <tr>\n",
       "      <th>7</th>\n",
       "      <td>12.306568</td>\n",
       "      <td>1.019612</td>\n",
       "    </tr>\n",
       "    <tr>\n",
       "      <th>8</th>\n",
       "      <td>12.247779</td>\n",
       "      <td>1.025662</td>\n",
       "    </tr>\n",
       "    <tr>\n",
       "      <th>9</th>\n",
       "      <td>12.590502</td>\n",
       "      <td>1.032876</td>\n",
       "    </tr>\n",
       "  </tbody>\n",
       "</table>\n",
       "</div>"
      ],
      "text/plain": [
       "   MAPE_train  MAPE_test\n",
       "0   14.016827   0.996247\n",
       "1   14.672134   1.001462\n",
       "2   13.630934   1.000582\n",
       "3   12.279357   0.996439\n",
       "4   12.085261   1.000509\n",
       "5   12.196880   1.007012\n",
       "6   12.222035   1.013119\n",
       "7   12.306568   1.019612\n",
       "8   12.247779   1.025662\n",
       "9   12.590502   1.032876"
      ]
     },
     "execution_count": 26,
     "metadata": {},
     "output_type": "execute_result"
    }
   ],
   "source": [
    "#Ejecución de modelos arima usando diferentes valores para el parametro lag y cálculo de MAPES por mes\n",
    "df_predict = pd.DataFrame(columns = ['Fit_febrero','Fit_marzo', 'Fit_abril','Fit_mayo',\n",
    "                                     'Fit_junio', 'Fit_julio', 'Pred_agosto','Pred_septiembre'])\n",
    "\n",
    "for i in range(10):\n",
    "    ar_model = AutoReg(train_data, lags=i).fit()\n",
    "    pred = ar_model.predict(start=len(train_data), end=(len(data_model)-1), dynamic=False)\n",
    "    \n",
    "    fit_febrero = sum(ar_model.fittedvalues[:data_model[data_model['Date'] == '2021-03-01'].index.astype(int)[0]])\n",
    "    fit_marzo = sum(ar_model.fittedvalues[data_model[data_model['Date'] == '2021-03-01'].index.astype(int)[0] : data_model[data_model['Date'] == '2021-04-01'].index.astype(int)[0]])\n",
    "    fit_abril = sum(ar_model.fittedvalues[data_model[data_model['Date'] == '2021-04-01'].index.astype(int)[0] : data_model[data_model['Date'] == '2021-05-01'].index.astype(int)[0]])\n",
    "    fit_mayo = sum(ar_model.fittedvalues[data_model[data_model['Date'] == '2021-05-01'].index.astype(int)[0] : data_model[data_model['Date'] == '2021-06-01'].index.astype(int)[0]])\n",
    "    fit_junio = sum(ar_model.fittedvalues[data_model[data_model['Date'] == '2021-06-01'].index.astype(int)[0] : data_model[data_model['Date'] == '2021-07-01'].index.astype(int)[0]])\n",
    "    fit_julio = sum(ar_model.fittedvalues[data_model[data_model['Date'] == '2021-07-01'].index.astype(int)[0] : data_model[data_model['Date'] == '2021-08-01'].index.astype(int)[0]])\n",
    "    \n",
    "    pred_agosto = sum(pred[:31])\n",
    "    pred_septiembre = sum(pred[32:])\n",
    "    df_predict.loc[i] = [fit_febrero, fit_marzo, fit_abril, fit_mayo, fit_junio, fit_julio, pred_agosto,pred_septiembre] \n",
    "    \n",
    "\n",
    "df_mapes = pd.DataFrame(columns = ['MAPE_train','MAPE_test'])\n",
    "\n",
    "for i in range(10):\n",
    "    mape_train = mean_absolute_percentage_error(monto_mensual['amount'][:6], df_predict.iloc[i][:6])\n",
    "    mape_test = mean_absolute_percentage_error(monto_mensual['amount'][6:], df_predict.iloc[i][6:])\n",
    "    df_mapes.loc[i] = [mape_train, mape_test]\n",
    "    \n",
    "    \n",
    "df_mapes"
   ]
  },
  {
   "cell_type": "markdown",
   "id": "6c3e3bd9",
   "metadata": {},
   "source": [
    "El mejor modelo ARIMA de los construídos lo podemos obtener con el parametro lag igual a 4, sin embargo los errores de entrenamiento y test son similares para todos los modelos. Aunque son buenos errores mensuales sería ideal que el error de entrenamiento fuera más cercano al error de test y de este modo representaría mejor la información."
   ]
  },
  {
   "cell_type": "markdown",
   "id": "32bdb834",
   "metadata": {},
   "source": [
    "## Análisis de correlación entre variables para modelos de regresión multilineal"
   ]
  },
  {
   "cell_type": "markdown",
   "id": "92675cb1",
   "metadata": {},
   "source": [
    "Antes de realizar modelos de regresión multilineal es importante realizar una análisis de correlacion entre las variables. En este caso la presencia de variables dummies podría mostrar altas correlaciones."
   ]
  },
  {
   "cell_type": "code",
   "execution_count": 27,
   "id": "0c3515f7",
   "metadata": {},
   "outputs": [
    {
     "data": {
      "text/html": [
       "<div>\n",
       "<style scoped>\n",
       "    .dataframe tbody tr th:only-of-type {\n",
       "        vertical-align: middle;\n",
       "    }\n",
       "\n",
       "    .dataframe tbody tr th {\n",
       "        vertical-align: top;\n",
       "    }\n",
       "\n",
       "    .dataframe thead th {\n",
       "        text-align: right;\n",
       "    }\n",
       "</style>\n",
       "<table border=\"1\" class=\"dataframe\">\n",
       "  <thead>\n",
       "    <tr style=\"text-align: right;\">\n",
       "      <th></th>\n",
       "      <th>Date</th>\n",
       "      <th>amount</th>\n",
       "      <th>amountfinancedByXepelin</th>\n",
       "      <th>top_PayerId_7</th>\n",
       "      <th>top_PayerId_8</th>\n",
       "      <th>top_PayerId_66</th>\n",
       "      <th>top_PayerId_67</th>\n",
       "      <th>top_PayerId_106</th>\n",
       "      <th>top_PayerId_109</th>\n",
       "      <th>top_PayerId_157</th>\n",
       "      <th>...</th>\n",
       "      <th>top_ReceiverId_16</th>\n",
       "      <th>top_ReceiverId_21</th>\n",
       "      <th>top_ReceiverId_35</th>\n",
       "      <th>top_ReceiverId_46</th>\n",
       "      <th>top_ReceiverId_58</th>\n",
       "      <th>top_ReceiverId_85</th>\n",
       "      <th>top_ReceiverId_87</th>\n",
       "      <th>top_ReceiverId_126</th>\n",
       "      <th>top_ReceiverId_135</th>\n",
       "      <th>Mes</th>\n",
       "    </tr>\n",
       "  </thead>\n",
       "  <tbody>\n",
       "    <tr>\n",
       "      <th>0</th>\n",
       "      <td>2021-02-08</td>\n",
       "      <td>2410.72</td>\n",
       "      <td>0.0</td>\n",
       "      <td>0.0</td>\n",
       "      <td>0.0</td>\n",
       "      <td>0.0</td>\n",
       "      <td>0.0</td>\n",
       "      <td>0.0</td>\n",
       "      <td>0.0</td>\n",
       "      <td>0.0</td>\n",
       "      <td>...</td>\n",
       "      <td>0.0</td>\n",
       "      <td>0.0</td>\n",
       "      <td>0.0</td>\n",
       "      <td>0.0</td>\n",
       "      <td>0.0</td>\n",
       "      <td>0.0</td>\n",
       "      <td>0.0</td>\n",
       "      <td>0.0</td>\n",
       "      <td>0.0</td>\n",
       "      <td>2</td>\n",
       "    </tr>\n",
       "    <tr>\n",
       "      <th>1</th>\n",
       "      <td>2021-02-09</td>\n",
       "      <td>0.00</td>\n",
       "      <td>0.0</td>\n",
       "      <td>0.0</td>\n",
       "      <td>0.0</td>\n",
       "      <td>0.0</td>\n",
       "      <td>0.0</td>\n",
       "      <td>0.0</td>\n",
       "      <td>0.0</td>\n",
       "      <td>0.0</td>\n",
       "      <td>...</td>\n",
       "      <td>0.0</td>\n",
       "      <td>0.0</td>\n",
       "      <td>0.0</td>\n",
       "      <td>0.0</td>\n",
       "      <td>0.0</td>\n",
       "      <td>0.0</td>\n",
       "      <td>0.0</td>\n",
       "      <td>0.0</td>\n",
       "      <td>0.0</td>\n",
       "      <td>2</td>\n",
       "    </tr>\n",
       "    <tr>\n",
       "      <th>2</th>\n",
       "      <td>2021-02-10</td>\n",
       "      <td>0.00</td>\n",
       "      <td>0.0</td>\n",
       "      <td>0.0</td>\n",
       "      <td>0.0</td>\n",
       "      <td>0.0</td>\n",
       "      <td>0.0</td>\n",
       "      <td>0.0</td>\n",
       "      <td>0.0</td>\n",
       "      <td>0.0</td>\n",
       "      <td>...</td>\n",
       "      <td>0.0</td>\n",
       "      <td>0.0</td>\n",
       "      <td>0.0</td>\n",
       "      <td>0.0</td>\n",
       "      <td>0.0</td>\n",
       "      <td>0.0</td>\n",
       "      <td>0.0</td>\n",
       "      <td>0.0</td>\n",
       "      <td>0.0</td>\n",
       "      <td>2</td>\n",
       "    </tr>\n",
       "    <tr>\n",
       "      <th>3</th>\n",
       "      <td>2021-02-11</td>\n",
       "      <td>0.00</td>\n",
       "      <td>0.0</td>\n",
       "      <td>0.0</td>\n",
       "      <td>0.0</td>\n",
       "      <td>0.0</td>\n",
       "      <td>0.0</td>\n",
       "      <td>0.0</td>\n",
       "      <td>0.0</td>\n",
       "      <td>0.0</td>\n",
       "      <td>...</td>\n",
       "      <td>0.0</td>\n",
       "      <td>0.0</td>\n",
       "      <td>0.0</td>\n",
       "      <td>0.0</td>\n",
       "      <td>0.0</td>\n",
       "      <td>0.0</td>\n",
       "      <td>0.0</td>\n",
       "      <td>0.0</td>\n",
       "      <td>0.0</td>\n",
       "      <td>2</td>\n",
       "    </tr>\n",
       "    <tr>\n",
       "      <th>4</th>\n",
       "      <td>2021-02-12</td>\n",
       "      <td>0.00</td>\n",
       "      <td>0.0</td>\n",
       "      <td>0.0</td>\n",
       "      <td>0.0</td>\n",
       "      <td>0.0</td>\n",
       "      <td>0.0</td>\n",
       "      <td>0.0</td>\n",
       "      <td>0.0</td>\n",
       "      <td>0.0</td>\n",
       "      <td>...</td>\n",
       "      <td>0.0</td>\n",
       "      <td>0.0</td>\n",
       "      <td>0.0</td>\n",
       "      <td>0.0</td>\n",
       "      <td>0.0</td>\n",
       "      <td>0.0</td>\n",
       "      <td>0.0</td>\n",
       "      <td>0.0</td>\n",
       "      <td>0.0</td>\n",
       "      <td>2</td>\n",
       "    </tr>\n",
       "  </tbody>\n",
       "</table>\n",
       "<p>5 rows × 24 columns</p>\n",
       "</div>"
      ],
      "text/plain": [
       "        Date   amount  amountfinancedByXepelin  top_PayerId_7  top_PayerId_8  \\\n",
       "0 2021-02-08  2410.72                      0.0            0.0            0.0   \n",
       "1 2021-02-09     0.00                      0.0            0.0            0.0   \n",
       "2 2021-02-10     0.00                      0.0            0.0            0.0   \n",
       "3 2021-02-11     0.00                      0.0            0.0            0.0   \n",
       "4 2021-02-12     0.00                      0.0            0.0            0.0   \n",
       "\n",
       "   top_PayerId_66  top_PayerId_67  top_PayerId_106  top_PayerId_109  \\\n",
       "0             0.0             0.0              0.0              0.0   \n",
       "1             0.0             0.0              0.0              0.0   \n",
       "2             0.0             0.0              0.0              0.0   \n",
       "3             0.0             0.0              0.0              0.0   \n",
       "4             0.0             0.0              0.0              0.0   \n",
       "\n",
       "   top_PayerId_157  ...  top_ReceiverId_16  top_ReceiverId_21  \\\n",
       "0              0.0  ...                0.0                0.0   \n",
       "1              0.0  ...                0.0                0.0   \n",
       "2              0.0  ...                0.0                0.0   \n",
       "3              0.0  ...                0.0                0.0   \n",
       "4              0.0  ...                0.0                0.0   \n",
       "\n",
       "   top_ReceiverId_35  top_ReceiverId_46  top_ReceiverId_58  top_ReceiverId_85  \\\n",
       "0                0.0                0.0                0.0                0.0   \n",
       "1                0.0                0.0                0.0                0.0   \n",
       "2                0.0                0.0                0.0                0.0   \n",
       "3                0.0                0.0                0.0                0.0   \n",
       "4                0.0                0.0                0.0                0.0   \n",
       "\n",
       "   top_ReceiverId_87  top_ReceiverId_126  top_ReceiverId_135  Mes  \n",
       "0                0.0                 0.0                 0.0    2  \n",
       "1                0.0                 0.0                 0.0    2  \n",
       "2                0.0                 0.0                 0.0    2  \n",
       "3                0.0                 0.0                 0.0    2  \n",
       "4                0.0                 0.0                 0.0    2  \n",
       "\n",
       "[5 rows x 24 columns]"
      ]
     },
     "execution_count": 27,
     "metadata": {},
     "output_type": "execute_result"
    }
   ],
   "source": [
    "data_model_elastic = data_model.copy()\n",
    "data_model_elastic.head(5)"
   ]
  },
  {
   "cell_type": "code",
   "execution_count": 28,
   "id": "9cbe478d",
   "metadata": {},
   "outputs": [],
   "source": [
    "del data_model_elastic['amountfinancedByXepelin']\n",
    "del data_model_elastic['Mes']\n",
    "del data_model_elastic['Date']"
   ]
  },
  {
   "cell_type": "code",
   "execution_count": 30,
   "id": "dd622427",
   "metadata": {
    "scrolled": true
   },
   "outputs": [
    {
     "data": {
      "text/html": [
       "<div>\n",
       "<style scoped>\n",
       "    .dataframe tbody tr th:only-of-type {\n",
       "        vertical-align: middle;\n",
       "    }\n",
       "\n",
       "    .dataframe tbody tr th {\n",
       "        vertical-align: top;\n",
       "    }\n",
       "\n",
       "    .dataframe thead th {\n",
       "        text-align: right;\n",
       "    }\n",
       "</style>\n",
       "<table border=\"1\" class=\"dataframe\">\n",
       "  <thead>\n",
       "    <tr style=\"text-align: right;\">\n",
       "      <th></th>\n",
       "      <th>variable_1</th>\n",
       "      <th>variable_2</th>\n",
       "      <th>r</th>\n",
       "      <th>abs_r</th>\n",
       "    </tr>\n",
       "  </thead>\n",
       "  <tbody>\n",
       "    <tr>\n",
       "      <th>395</th>\n",
       "      <td>top_ReceiverId_87</td>\n",
       "      <td>top_ReceiverId_85</td>\n",
       "      <td>0.736917</td>\n",
       "      <td>0.736917</td>\n",
       "    </tr>\n",
       "    <tr>\n",
       "      <th>375</th>\n",
       "      <td>top_ReceiverId_85</td>\n",
       "      <td>top_ReceiverId_87</td>\n",
       "      <td>0.736917</td>\n",
       "      <td>0.736917</td>\n",
       "    </tr>\n",
       "    <tr>\n",
       "      <th>345</th>\n",
       "      <td>top_ReceiverId_58</td>\n",
       "      <td>top_PayerId_175</td>\n",
       "      <td>0.725495</td>\n",
       "      <td>0.725495</td>\n",
       "    </tr>\n",
       "    <tr>\n",
       "      <th>205</th>\n",
       "      <td>top_PayerId_175</td>\n",
       "      <td>top_ReceiverId_58</td>\n",
       "      <td>0.725495</td>\n",
       "      <td>0.725495</td>\n",
       "    </tr>\n",
       "    <tr>\n",
       "      <th>373</th>\n",
       "      <td>top_ReceiverId_85</td>\n",
       "      <td>top_ReceiverId_58</td>\n",
       "      <td>0.710252</td>\n",
       "      <td>0.710252</td>\n",
       "    </tr>\n",
       "  </tbody>\n",
       "</table>\n",
       "</div>"
      ],
      "text/plain": [
       "            variable_1         variable_2         r     abs_r\n",
       "395  top_ReceiverId_87  top_ReceiverId_85  0.736917  0.736917\n",
       "375  top_ReceiverId_85  top_ReceiverId_87  0.736917  0.736917\n",
       "345  top_ReceiverId_58    top_PayerId_175  0.725495  0.725495\n",
       "205    top_PayerId_175  top_ReceiverId_58  0.725495  0.725495\n",
       "373  top_ReceiverId_85  top_ReceiverId_58  0.710252  0.710252"
      ]
     },
     "metadata": {},
     "output_type": "display_data"
    }
   ],
   "source": [
    "corr_matrix = data_model_elastic.select_dtypes(include=['float64', 'int']) \\\n",
    "              .corr(method='pearson')\n",
    "display(tidy_corr_matrix(corr_matrix).head(5))"
   ]
  },
  {
   "cell_type": "markdown",
   "id": "9e87a40d",
   "metadata": {},
   "source": [
    "En la siguiente tabla vemos que ninguna de las variables tiene correlación alta con la variable dependiente."
   ]
  },
  {
   "cell_type": "code",
   "execution_count": 31,
   "id": "b94b25e7",
   "metadata": {},
   "outputs": [
    {
     "data": {
      "text/html": [
       "<div>\n",
       "<style scoped>\n",
       "    .dataframe tbody tr th:only-of-type {\n",
       "        vertical-align: middle;\n",
       "    }\n",
       "\n",
       "    .dataframe tbody tr th {\n",
       "        vertical-align: top;\n",
       "    }\n",
       "\n",
       "    .dataframe thead th {\n",
       "        text-align: right;\n",
       "    }\n",
       "</style>\n",
       "<table border=\"1\" class=\"dataframe\">\n",
       "  <thead>\n",
       "    <tr style=\"text-align: right;\">\n",
       "      <th></th>\n",
       "      <th>variable_1</th>\n",
       "      <th>variable_2</th>\n",
       "      <th>r</th>\n",
       "      <th>abs_r</th>\n",
       "    </tr>\n",
       "  </thead>\n",
       "  <tbody>\n",
       "    <tr>\n",
       "      <th>12</th>\n",
       "      <td>amount</td>\n",
       "      <td>top_ReceiverId_16</td>\n",
       "      <td>0.498371</td>\n",
       "      <td>0.498371</td>\n",
       "    </tr>\n",
       "    <tr>\n",
       "      <th>9</th>\n",
       "      <td>amount</td>\n",
       "      <td>top_PayerId_175</td>\n",
       "      <td>0.483043</td>\n",
       "      <td>0.483043</td>\n",
       "    </tr>\n",
       "    <tr>\n",
       "      <th>5</th>\n",
       "      <td>amount</td>\n",
       "      <td>top_PayerId_106</td>\n",
       "      <td>0.480294</td>\n",
       "      <td>0.480294</td>\n",
       "    </tr>\n",
       "    <tr>\n",
       "      <th>18</th>\n",
       "      <td>amount</td>\n",
       "      <td>top_ReceiverId_87</td>\n",
       "      <td>0.442293</td>\n",
       "      <td>0.442293</td>\n",
       "    </tr>\n",
       "    <tr>\n",
       "      <th>16</th>\n",
       "      <td>amount</td>\n",
       "      <td>top_ReceiverId_58</td>\n",
       "      <td>0.435353</td>\n",
       "      <td>0.435353</td>\n",
       "    </tr>\n",
       "    <tr>\n",
       "      <th>11</th>\n",
       "      <td>amount</td>\n",
       "      <td>top_ReceiverId_14</td>\n",
       "      <td>0.396968</td>\n",
       "      <td>0.396968</td>\n",
       "    </tr>\n",
       "    <tr>\n",
       "      <th>15</th>\n",
       "      <td>amount</td>\n",
       "      <td>top_ReceiverId_46</td>\n",
       "      <td>0.395737</td>\n",
       "      <td>0.395737</td>\n",
       "    </tr>\n",
       "    <tr>\n",
       "      <th>8</th>\n",
       "      <td>amount</td>\n",
       "      <td>top_PayerId_173</td>\n",
       "      <td>0.393709</td>\n",
       "      <td>0.393709</td>\n",
       "    </tr>\n",
       "    <tr>\n",
       "      <th>10</th>\n",
       "      <td>amount</td>\n",
       "      <td>top_PayerId_184</td>\n",
       "      <td>0.363716</td>\n",
       "      <td>0.363716</td>\n",
       "    </tr>\n",
       "    <tr>\n",
       "      <th>17</th>\n",
       "      <td>amount</td>\n",
       "      <td>top_ReceiverId_85</td>\n",
       "      <td>0.356730</td>\n",
       "      <td>0.356730</td>\n",
       "    </tr>\n",
       "    <tr>\n",
       "      <th>4</th>\n",
       "      <td>amount</td>\n",
       "      <td>top_PayerId_67</td>\n",
       "      <td>0.345420</td>\n",
       "      <td>0.345420</td>\n",
       "    </tr>\n",
       "    <tr>\n",
       "      <th>19</th>\n",
       "      <td>amount</td>\n",
       "      <td>top_ReceiverId_126</td>\n",
       "      <td>0.328494</td>\n",
       "      <td>0.328494</td>\n",
       "    </tr>\n",
       "    <tr>\n",
       "      <th>6</th>\n",
       "      <td>amount</td>\n",
       "      <td>top_PayerId_109</td>\n",
       "      <td>0.322947</td>\n",
       "      <td>0.322947</td>\n",
       "    </tr>\n",
       "    <tr>\n",
       "      <th>13</th>\n",
       "      <td>amount</td>\n",
       "      <td>top_ReceiverId_21</td>\n",
       "      <td>0.322737</td>\n",
       "      <td>0.322737</td>\n",
       "    </tr>\n",
       "    <tr>\n",
       "      <th>20</th>\n",
       "      <td>amount</td>\n",
       "      <td>top_ReceiverId_135</td>\n",
       "      <td>0.302426</td>\n",
       "      <td>0.302426</td>\n",
       "    </tr>\n",
       "    <tr>\n",
       "      <th>2</th>\n",
       "      <td>amount</td>\n",
       "      <td>top_PayerId_8</td>\n",
       "      <td>0.252181</td>\n",
       "      <td>0.252181</td>\n",
       "    </tr>\n",
       "    <tr>\n",
       "      <th>14</th>\n",
       "      <td>amount</td>\n",
       "      <td>top_ReceiverId_35</td>\n",
       "      <td>0.251301</td>\n",
       "      <td>0.251301</td>\n",
       "    </tr>\n",
       "    <tr>\n",
       "      <th>1</th>\n",
       "      <td>amount</td>\n",
       "      <td>top_PayerId_7</td>\n",
       "      <td>0.203969</td>\n",
       "      <td>0.203969</td>\n",
       "    </tr>\n",
       "    <tr>\n",
       "      <th>7</th>\n",
       "      <td>amount</td>\n",
       "      <td>top_PayerId_157</td>\n",
       "      <td>0.192786</td>\n",
       "      <td>0.192786</td>\n",
       "    </tr>\n",
       "    <tr>\n",
       "      <th>3</th>\n",
       "      <td>amount</td>\n",
       "      <td>top_PayerId_66</td>\n",
       "      <td>0.172149</td>\n",
       "      <td>0.172149</td>\n",
       "    </tr>\n",
       "  </tbody>\n",
       "</table>\n",
       "</div>"
      ],
      "text/plain": [
       "   variable_1          variable_2         r     abs_r\n",
       "12     amount   top_ReceiverId_16  0.498371  0.498371\n",
       "9      amount     top_PayerId_175  0.483043  0.483043\n",
       "5      amount     top_PayerId_106  0.480294  0.480294\n",
       "18     amount   top_ReceiverId_87  0.442293  0.442293\n",
       "16     amount   top_ReceiverId_58  0.435353  0.435353\n",
       "11     amount   top_ReceiverId_14  0.396968  0.396968\n",
       "15     amount   top_ReceiverId_46  0.395737  0.395737\n",
       "8      amount     top_PayerId_173  0.393709  0.393709\n",
       "10     amount     top_PayerId_184  0.363716  0.363716\n",
       "17     amount   top_ReceiverId_85  0.356730  0.356730\n",
       "4      amount      top_PayerId_67  0.345420  0.345420\n",
       "19     amount  top_ReceiverId_126  0.328494  0.328494\n",
       "6      amount     top_PayerId_109  0.322947  0.322947\n",
       "13     amount   top_ReceiverId_21  0.322737  0.322737\n",
       "20     amount  top_ReceiverId_135  0.302426  0.302426\n",
       "2      amount       top_PayerId_8  0.252181  0.252181\n",
       "14     amount   top_ReceiverId_35  0.251301  0.251301\n",
       "1      amount       top_PayerId_7  0.203969  0.203969\n",
       "7      amount     top_PayerId_157  0.192786  0.192786\n",
       "3      amount      top_PayerId_66  0.172149  0.172149"
      ]
     },
     "execution_count": 31,
     "metadata": {},
     "output_type": "execute_result"
    }
   ],
   "source": [
    "tidy_corr_matrix(corr_matrix)[tidy_corr_matrix(corr_matrix)['variable_1'] == 'amount']"
   ]
  },
  {
   "cell_type": "code",
   "execution_count": 32,
   "id": "ddf7ae79",
   "metadata": {},
   "outputs": [
    {
     "data": {
      "image/png": "[encoded data removed]",
      "text/plain": [
       "<Figure size 720x720 with 2 Axes>"
      ]
     },
     "metadata": {
      "needs_background": "light"
     },
     "output_type": "display_data"
    }
   ],
   "source": [
    "# Heatmap matriz de correlaciones\n",
    "fig, ax = plt.subplots(nrows=1, ncols=1, figsize=(10, 10))\n",
    "\n",
    "sns.heatmap(\n",
    "    corr_matrix,\n",
    "    square    = True,\n",
    "    ax        = ax\n",
    ")\n",
    "\n",
    "ax.tick_params(labelsize = 3)"
   ]
  },
  {
   "cell_type": "markdown",
   "id": "83639297",
   "metadata": {},
   "source": [
    "En el anterior gráfico vemos las correlaciones entre todas las variables. En general las correlaciones son bajas y por esto no eliminaremos variables para la construcción de los siguientes modelos."
   ]
  },
  {
   "cell_type": "code",
   "execution_count": 33,
   "id": "239ef378",
   "metadata": {},
   "outputs": [],
   "source": [
    "#Partición de información en entrenamiento y test\n",
    "#date_test_index = data_model[data_model['Date'] == date_test].index.astype(int)[0]\n",
    "x = data_model_elastic.loc[:, data_model_elastic.columns != 'amount']\n",
    "y = pd.DataFrame(data_model_elastic['amount'])\n",
    "x_train = x[:date_test_index]\n",
    "x_test = x[date_test_index:]\n",
    "y_train = y[:date_test_index]\n",
    "y_test = y[date_test_index:]"
   ]
  },
  {
   "cell_type": "markdown",
   "id": "d765ac07",
   "metadata": {},
   "source": [
    "## Regresión Lineal"
   ]
  },
  {
   "cell_type": "code",
   "execution_count": 34,
   "id": "580a16e1",
   "metadata": {},
   "outputs": [
    {
     "data": {
      "text/plain": [
       "LinearRegression(normalize=True)"
      ]
     },
     "execution_count": 34,
     "metadata": {},
     "output_type": "execute_result"
    }
   ],
   "source": [
    "# Creación y entrenamiento del modelo\n",
    "# ==============================================================================\n",
    "modelo = LinearRegression(normalize=True)\n",
    "modelo.fit(X = x_train, y = y_train)"
   ]
  },
  {
   "cell_type": "code",
   "execution_count": 35,
   "id": "971a8aec",
   "metadata": {},
   "outputs": [
    {
     "data": {
      "image/png": "[encoded data removed]",
      "text/plain": [
       "<Figure size 1080x360 with 1 Axes>"
      ]
     },
     "metadata": {
      "needs_background": "light"
     },
     "output_type": "display_data"
    }
   ],
   "source": [
    "# Coeficientes del modelo\n",
    "# ==============================================================================\n",
    "df_coeficientes = pd.DataFrame(\n",
    "                        {'predictor': x_train.columns,\n",
    "                         'coef': modelo.coef_.flatten()}\n",
    "                  )\n",
    "\n",
    "fig, ax = plt.subplots(figsize=(15, 5))\n",
    "ax.stem(df_coeficientes.predictor, df_coeficientes.coef, markerfmt=' ')\n",
    "plt.xticks(rotation=90, ha='right', size=5)\n",
    "ax.set_xlabel('variable')\n",
    "ax.set_ylabel('coeficientes')\n",
    "ax.set_title('Coeficientes del modelo');"
   ]
  },
  {
   "cell_type": "code",
   "execution_count": 37,
   "id": "c762a812",
   "metadata": {},
   "outputs": [
    {
     "data": {
      "text/plain": [
       "array([ 2.12344864e+03,  2.44860537e+06,  3.01108667e+05,  2.12344864e+03,\n",
       "       -1.14586781e+06,  1.20298688e+06,  2.12344864e+03,  2.12344864e+03,\n",
       "        2.12344864e+03,  4.02340459e+06,  2.12344864e+03,  1.12272801e+06,\n",
       "       -5.69591735e+05,  2.12344864e+03,  2.12344864e+03, -4.54910984e+05,\n",
       "        2.43607900e+06,  2.12344864e+03, -1.05405632e+06,  8.89426775e+05,\n",
       "        2.12344864e+03,  2.12344864e+03,  1.48450696e+06, -9.35967837e+04,\n",
       "        5.01599512e+05,  2.12344864e+03,  2.12344864e+03,  2.12344864e+03,\n",
       "        2.12344864e+03,  2.12344864e+03,  2.12344864e+03,  2.12344864e+03,\n",
       "        2.12344864e+03,  2.12344864e+03,  2.12344864e+03,  2.12344864e+03,\n",
       "        7.49921534e+05,  1.47630184e+06, -2.68456395e+05, -5.69591735e+05,\n",
       "        2.12344864e+03,  2.12344864e+03,  2.12344864e+03,  1.84867547e+06,\n",
       "       -1.52335671e+05, -1.79313072e+04,  2.12344864e+03,  2.12344864e+03,\n",
       "        2.12344864e+03,  2.12344864e+03, -3.90510527e+05,  2.12344864e+03,\n",
       "        2.12344864e+03,  2.12344864e+03,  2.12344864e+03,  2.12344864e+03,\n",
       "        2.12344864e+03, -3.88090349e+05,  2.12344864e+03,  2.12344864e+03,\n",
       "       -2.49495876e+05])"
      ]
     },
     "execution_count": 37,
     "metadata": {},
     "output_type": "execute_result"
    }
   ],
   "source": [
    "# Predicciones test\n",
    "# ==============================================================================\n",
    "predicciones = modelo.predict(X=x_test)\n",
    "predicciones = predicciones.flatten()\n",
    "predicciones"
   ]
  },
  {
   "cell_type": "markdown",
   "id": "d2375db8",
   "metadata": {},
   "source": [
    "Para la regresión multilineal usando todas las variables obtenemos coeficientes negativos, lo cual no tiene sentido porque significaría que el hecho de que alguna empresa pague o reciba el pago de una factura afecta negativamente al monto y representaría un mono negativo dentro del monto total. Esto podría explicarse por causalidad de correlaciones con otras variables pero no tenemos la información en este momento para saberlo.\n",
    "\n",
    "Además, se obtienen predicciones negativas, lo que tampoco tiene sentido y por tanto este modelo queda descartado."
   ]
  },
  {
   "cell_type": "markdown",
   "id": "951340cf",
   "metadata": {},
   "source": [
    "## Ridge"
   ]
  },
  {
   "cell_type": "markdown",
   "id": "672795e6",
   "metadata": {},
   "source": [
    "Se realiza un modelo Ridge haciendo validación cruzada para obtener el mejor alpha y se realiza un análisis de la variación de los coeficientes y del RMSE respecto a la variación del alpha."
   ]
  },
  {
   "cell_type": "code",
   "execution_count": 38,
   "id": "f8272e88",
   "metadata": {},
   "outputs": [],
   "source": [
    "# Creación y entrenamiento del modelo (con búsqueda por CV del valor óptimo alpha)\n",
    "# ==============================================================================\n",
    "# Por defecto RidgeCV utiliza el mean squared error\n",
    "modelo = RidgeCV(\n",
    "            alphas          = np.logspace(-10, 2, 200),\n",
    "            fit_intercept   = True,\n",
    "            normalize       = True,\n",
    "            store_cv_values = True\n",
    "         )\n",
    "\n",
    "_ = modelo.fit(X = x_train, y = y_train)"
   ]
  },
  {
   "cell_type": "code",
   "execution_count": 39,
   "id": "52e31c34",
   "metadata": {},
   "outputs": [
    {
     "data": {
      "image/png": "[encoded data removed]",
      "text/plain": [
       "<Figure size 504x276.48 with 1 Axes>"
      ]
     },
     "metadata": {
      "needs_background": "light"
     },
     "output_type": "display_data"
    }
   ],
   "source": [
    "# Evolución de los coeficientes en función de alpha\n",
    "# ==============================================================================\n",
    "alphas = modelo.alphas\n",
    "coefs = []\n",
    "\n",
    "for alpha in alphas:\n",
    "    modelo_temp = Ridge(alpha=alpha, fit_intercept=False, normalize=True)\n",
    "    modelo_temp.fit(x_train, y_train)\n",
    "    coefs.append(modelo_temp.coef_.flatten())\n",
    "\n",
    "fig, ax = plt.subplots(figsize=(7, 3.84))\n",
    "ax.plot(alphas, coefs)\n",
    "ax.set_xscale('log')\n",
    "ax.set_xlabel('alpha')\n",
    "ax.set_ylabel('coeficientes')\n",
    "ax.set_title('Coeficientes del modelo en función de la regularización');\n",
    "plt.axis('tight')\n",
    "plt.show()"
   ]
  },
  {
   "cell_type": "markdown",
   "id": "26562efa",
   "metadata": {},
   "source": [
    "Podemos ver que a medida que aumenta el alpha los coeficientes tienden a cero"
   ]
  },
  {
   "cell_type": "code",
   "execution_count": 40,
   "id": "51d82aad",
   "metadata": {},
   "outputs": [
    {
     "data": {
      "image/png": "[encoded data removed]",
      "text/plain": [
       "<Figure size 504x276.48 with 1 Axes>"
      ]
     },
     "metadata": {
      "needs_background": "light"
     },
     "output_type": "display_data"
    }
   ],
   "source": [
    "# Evolución del error en función de alpha\n",
    "# ==============================================================================\n",
    "# modelo.cv_values almacena el mse de cv para cada valor de alpha. Tiene\n",
    "# dimensiones (n_samples, n_targets, n_alphas)\n",
    "mse_cv = modelo.cv_values_.reshape((-1, 200)).mean(axis=0)\n",
    "mse_sd = modelo.cv_values_.reshape((-1, 200)).std(axis=0)\n",
    "\n",
    "# Se aplica la raíz cuadrada para pasar de mse a rmse\n",
    "rmse_cv = np.sqrt(mse_cv)\n",
    "rmse_sd = np.sqrt(mse_sd)\n",
    "\n",
    "# Se identifica el óptimo y el óptimo + 1std\n",
    "min_rmse     = np.min(rmse_cv)\n",
    "sd_min_rmse  = rmse_sd[np.argmin(rmse_cv)]\n",
    "min_rsme_1sd = np.max(rmse_cv[rmse_cv <= min_rmse + sd_min_rmse])\n",
    "optimo       = modelo.alphas[np.argmin(rmse_cv)]\n",
    "optimo_1sd   = modelo.alphas[rmse_cv == min_rsme_1sd]\n",
    "\n",
    "\n",
    "# Gráfico del error +- 1 desviación estándar\n",
    "fig, ax = plt.subplots(figsize=(7, 3.84))\n",
    "ax.plot(modelo.alphas, rmse_cv)\n",
    "ax.fill_between(\n",
    "    modelo.alphas,\n",
    "    rmse_cv + rmse_sd,\n",
    "    rmse_cv - rmse_sd,\n",
    "    alpha=0.2\n",
    ")\n",
    "\n",
    "ax.axvline(\n",
    "    x         = optimo,\n",
    "    c         = \"gray\",\n",
    "    linestyle = '--',\n",
    "    label     = 'óptimo'\n",
    ")\n",
    "\n",
    "ax.axvline(\n",
    "    x         = optimo_1sd,\n",
    "    c         = \"blue\",\n",
    "    linestyle = '--',\n",
    "    label     = 'óptimo_1sd'\n",
    ")\n",
    "ax.set_xscale('log')\n",
    "ax.set_ylim([0,None])\n",
    "ax.set_title('Evolución del error CV en función de la regularización')\n",
    "ax.set_xlabel('alpha')\n",
    "ax.set_ylabel('RMSE')\n",
    "plt.legend();\n"
   ]
  },
  {
   "cell_type": "markdown",
   "id": "32a008e6",
   "metadata": {},
   "source": [
    "No hay una variación significativa en el RMSE conforme el alpha varia. Hay un punto de inflexión que define el mejor alpha."
   ]
  },
  {
   "cell_type": "code",
   "execution_count": 41,
   "id": "79eac55d",
   "metadata": {},
   "outputs": [
    {
     "name": "stdout",
     "output_type": "stream",
     "text": [
      "Mejor valor de alpha encontrado: 3.5707859649004554\n"
     ]
    }
   ],
   "source": [
    "# Mejor valor alpha encontrado\n",
    "# ==============================================================================\n",
    "print(f\"Mejor valor de alpha encontrado: {modelo.alpha_}\")"
   ]
  },
  {
   "cell_type": "code",
   "execution_count": 42,
   "id": "e711ac13",
   "metadata": {},
   "outputs": [
    {
     "data": {
      "image/png": "[encoded data removed]",
      "text/plain": [
       "<Figure size 792x276.48 with 1 Axes>"
      ]
     },
     "metadata": {
      "needs_background": "light"
     },
     "output_type": "display_data"
    }
   ],
   "source": [
    "# Coeficientes del modelo\n",
    "# ==============================================================================\n",
    "df_coeficientes = pd.DataFrame(\n",
    "                        {'predictor': x_train.columns,\n",
    "                         'coef': modelo.coef_.flatten()}\n",
    "                  )\n",
    "\n",
    "fig, ax = plt.subplots(figsize=(11, 3.84))\n",
    "ax.stem(df_coeficientes.predictor, df_coeficientes.coef, markerfmt=' ')\n",
    "plt.xticks(rotation=90, ha='right', size=5)\n",
    "ax.set_xlabel('variable')\n",
    "ax.set_ylabel('coeficientes')\n",
    "ax.set_title('Coeficientes del modelo');"
   ]
  },
  {
   "cell_type": "markdown",
   "id": "036fa067",
   "metadata": {},
   "source": [
    "Podemos ver que en este caso los coeficientes de todas las variables son positivos, algunos con un peso mayor a otros. Hasta este momento los resultados del modelo tienen sentido."
   ]
  },
  {
   "cell_type": "code",
   "execution_count": 43,
   "id": "ed7e664f",
   "metadata": {},
   "outputs": [],
   "source": [
    "# Predicciones test\n",
    "# ==============================================================================\n",
    "predicciones = modelo.predict(X=x_test)\n",
    "predicciones = predicciones.flatten()"
   ]
  },
  {
   "cell_type": "code",
   "execution_count": 44,
   "id": "53c576eb",
   "metadata": {},
   "outputs": [
    {
     "name": "stdout",
     "output_type": "stream",
     "text": [
      "\n",
      "El error (rmse) de test es: 233048.13904054425\n"
     ]
    }
   ],
   "source": [
    "# Error de test del modelo \n",
    "# ==============================================================================\n",
    "rmse_ridge = mean_squared_error(\n",
    "                y_true  = y_test,\n",
    "                y_pred  = predicciones,\n",
    "                squared = False\n",
    "             )\n",
    "print(\"\")\n",
    "print(f\"El error (rmse) de test es: {rmse_ridge}\")"
   ]
  },
  {
   "cell_type": "markdown",
   "id": "b83e2b9f",
   "metadata": {},
   "source": [
    "## Lasso"
   ]
  },
  {
   "cell_type": "markdown",
   "id": "073fb2b9",
   "metadata": {},
   "source": [
    "Mediante lasso se busca excluir variables que no sean relevantes para el modelo. \n",
    "Se realiza al igual que en el modelo anterior una validación cruzada y análisis de los coeficientes y el RMSE."
   ]
  },
  {
   "cell_type": "code",
   "execution_count": 45,
   "id": "a11903e3",
   "metadata": {},
   "outputs": [],
   "source": [
    "# Creación y entrenamiento del modelo (con búsqueda por CV del valor óptimo alpha)\n",
    "# ==============================================================================\n",
    "# Por defecto LassoCV utiliza el mean squared error\n",
    "modelo = LassoCV(\n",
    "            alphas          = np.logspace(-10, 3, 200),\n",
    "            normalize       = True,\n",
    "            cv              = 10\n",
    "         )\n",
    "_ = modelo.fit(X = x_train, y = y_train)"
   ]
  },
  {
   "cell_type": "code",
   "execution_count": 46,
   "id": "8ac02c11",
   "metadata": {},
   "outputs": [
    {
     "data": {
      "image/png": "[encoded data removed]",
      "text/plain": [
       "<Figure size 504x276.48 with 1 Axes>"
      ]
     },
     "metadata": {
      "needs_background": "light"
     },
     "output_type": "display_data"
    }
   ],
   "source": [
    "# Evolución de los coeficientes en función de alpha\n",
    "# ==============================================================================\n",
    "alphas = modelo.alphas_\n",
    "coefs = []\n",
    "\n",
    "for alpha in alphas:\n",
    "    modelo_temp = Lasso(alpha=alpha, fit_intercept=False, normalize=True)\n",
    "    modelo_temp.fit(x_train, y_train)\n",
    "    coefs.append(modelo_temp.coef_.flatten())\n",
    "\n",
    "fig, ax = plt.subplots(figsize=(7, 3.84))\n",
    "ax.plot(alphas, coefs)\n",
    "ax.set_xscale('log')\n",
    "ax.set_ylim([-15,None])\n",
    "ax.set_xlabel('alpha')\n",
    "ax.set_ylabel('coeficientes')\n",
    "ax.set_title('Coeficientes del modelo en función de la regularización');"
   ]
  },
  {
   "cell_type": "code",
   "execution_count": 47,
   "id": "28b78a01",
   "metadata": {},
   "outputs": [
    {
     "data": {
      "image/png": "[encoded data removed]",
      "text/plain": [
       "<Figure size 504x276.48 with 1 Axes>"
      ]
     },
     "metadata": {
      "needs_background": "light"
     },
     "output_type": "display_data"
    }
   ],
   "source": [
    "# Número de predictores incluidos (coeficiente !=0) en función de alpha\n",
    "# ==============================================================================\n",
    "alphas = modelo.alphas_\n",
    "n_predictores = []\n",
    "\n",
    "for alpha in alphas:\n",
    "    modelo_temp = Lasso(alpha=alpha, fit_intercept=False, normalize=True)\n",
    "    modelo_temp.fit(x_train, y_train)\n",
    "    coef_no_cero = np.sum(modelo_temp.coef_.flatten() != 0)\n",
    "    n_predictores.append(coef_no_cero)\n",
    "\n",
    "fig, ax = plt.subplots(figsize=(7, 3.84))\n",
    "ax.plot(alphas, n_predictores)\n",
    "ax.set_xscale('log')\n",
    "ax.set_ylim([-15,None])\n",
    "ax.set_xlabel('alpha')\n",
    "ax.set_ylabel('nº predictores')\n",
    "ax.set_title('Predictores incluidos en función de la regularización');"
   ]
  },
  {
   "cell_type": "code",
   "execution_count": 48,
   "id": "c30ed143",
   "metadata": {},
   "outputs": [
    {
     "data": {
      "image/png": "[encoded data removed]",
      "text/plain": [
       "<Figure size 504x276.48 with 1 Axes>"
      ]
     },
     "metadata": {
      "needs_background": "light"
     },
     "output_type": "display_data"
    }
   ],
   "source": [
    "# Evolución del error en función de alpha\n",
    "# ==============================================================================\n",
    "# modelo.mse_path_ almacena el mse de cv para cada valor de alpha. Tiene\n",
    "# dimensiones (n_alphas, n_folds)\n",
    "mse_cv = modelo.mse_path_.mean(axis=1)\n",
    "mse_sd = modelo.mse_path_.std(axis=1)\n",
    "\n",
    "# Se aplica la raíz cuadrada para pasar de mse a rmse\n",
    "rmse_cv = np.sqrt(mse_cv)\n",
    "rmse_sd = np.sqrt(mse_sd)\n",
    "\n",
    "# Se identifica el óptimo y el óptimo + 1std\n",
    "min_rmse     = np.min(rmse_cv)\n",
    "sd_min_rmse  = rmse_sd[np.argmin(rmse_cv)]\n",
    "min_rsme_1sd = np.max(rmse_cv[rmse_cv <= min_rmse + sd_min_rmse])\n",
    "optimo       = modelo.alphas_[np.argmin(rmse_cv)]\n",
    "optimo_1sd   = modelo.alphas_[rmse_cv == min_rsme_1sd]\n",
    "\n",
    "# Gráfico del error +- 1 desviación estándar\n",
    "fig, ax = plt.subplots(figsize=(7, 3.84))\n",
    "ax.plot(modelo.alphas_, rmse_cv)\n",
    "ax.fill_between(\n",
    "    modelo.alphas_,\n",
    "    rmse_cv + rmse_sd,\n",
    "    rmse_cv - rmse_sd,\n",
    "    alpha=0.2\n",
    ")\n",
    "\n",
    "ax.axvline(\n",
    "    x         = optimo,\n",
    "    c         = \"gray\",\n",
    "    linestyle = '--',\n",
    "    label     = 'óptimo'\n",
    ")\n",
    "\n",
    "ax.axvline(\n",
    "    x         = optimo_1sd,\n",
    "    c         = \"blue\",\n",
    "    linestyle = '--',\n",
    "    label     = 'óptimo_1sd'\n",
    ")\n",
    "\n",
    "ax.set_xscale('log')\n",
    "ax.set_ylim([0,None])\n",
    "ax.set_title('Evolución del error CV en función de la regularización')\n",
    "ax.set_xlabel('alpha')\n",
    "ax.set_ylabel('RMSE')\n",
    "plt.legend();"
   ]
  },
  {
   "cell_type": "code",
   "execution_count": 49,
   "id": "a5914c7b",
   "metadata": {},
   "outputs": [
    {
     "name": "stdout",
     "output_type": "stream",
     "text": [
      "Mejor valor de alpha encontrado: 1.1623224686798542e-10\n"
     ]
    }
   ],
   "source": [
    "# Mejor valor alpha encontrado\n",
    "# ==============================================================================\n",
    "print(f\"Mejor valor de alpha encontrado: {modelo.alpha_}\")"
   ]
  },
  {
   "cell_type": "markdown",
   "id": "5669117e",
   "metadata": {},
   "source": [
    "En los gráficos obtenidos se puede ver que no hay una variación ni en los coeficientes ni en el RMSE conforme el aplha varía. El número de predictores para los diferentes modelos siempre es igual al número total de predictores y el alpha es nulo, entonces este modelo es equivalente al modelo anterior."
   ]
  },
  {
   "cell_type": "markdown",
   "id": "d05a3ff2",
   "metadata": {},
   "source": [
    "## Elastic net"
   ]
  },
  {
   "cell_type": "markdown",
   "id": "89b5966d",
   "metadata": {},
   "source": [
    "Elastic net busca encontrarun punto medio entre Ridge y Lasso. \n",
    "Se realiza el mismo proceso que con los métodos anteriores."
   ]
  },
  {
   "cell_type": "code",
   "execution_count": 50,
   "id": "8a1f6b90",
   "metadata": {},
   "outputs": [],
   "source": [
    "# Creación y entrenamiento del modelo (con búsqueda por CV del valor óptimo alpha)\n",
    "# ==============================================================================\n",
    "# Por defecto ElasticNetCV utiliza el mean squared error\n",
    "modelo = ElasticNetCV(\n",
    "            l1_ratio        = [0, 0.1, 0.5, 0.7, 0.9, 0.95, 0.99],\n",
    "            alphas          = np.logspace(-10, 3, 200),\n",
    "            normalize       = True,\n",
    "            cv              = 10\n",
    "         )\n",
    "_ = modelo.fit(X = x_train, y = y_train)"
   ]
  },
  {
   "cell_type": "code",
   "execution_count": 51,
   "id": "f2c9b4c1",
   "metadata": {},
   "outputs": [
    {
     "data": {
      "text/html": [
       "<div>\n",
       "<style scoped>\n",
       "    .dataframe tbody tr th:only-of-type {\n",
       "        vertical-align: middle;\n",
       "    }\n",
       "\n",
       "    .dataframe tbody tr th {\n",
       "        vertical-align: top;\n",
       "    }\n",
       "\n",
       "    .dataframe thead th {\n",
       "        text-align: right;\n",
       "    }\n",
       "</style>\n",
       "<table border=\"1\" class=\"dataframe\">\n",
       "  <thead>\n",
       "    <tr style=\"text-align: right;\">\n",
       "      <th></th>\n",
       "      <th>l1_ratio</th>\n",
       "      <th>modelo.alphas_</th>\n",
       "      <th>mse_cv</th>\n",
       "      <th>rmse_cv</th>\n",
       "    </tr>\n",
       "  </thead>\n",
       "  <tbody>\n",
       "    <tr>\n",
       "      <th>267</th>\n",
       "      <td>0.10</td>\n",
       "      <td>4.198707e-02</td>\n",
       "      <td>1.552114e+11</td>\n",
       "      <td>393968.766618</td>\n",
       "    </tr>\n",
       "    <tr>\n",
       "      <th>463</th>\n",
       "      <td>0.50</td>\n",
       "      <td>7.663411e-02</td>\n",
       "      <td>1.552153e+11</td>\n",
       "      <td>393973.700494</td>\n",
       "    </tr>\n",
       "    <tr>\n",
       "      <th>1237</th>\n",
       "      <td>0.99</td>\n",
       "      <td>3.827494e+00</td>\n",
       "      <td>1.552206e+11</td>\n",
       "      <td>393980.409559</td>\n",
       "    </tr>\n",
       "    <tr>\n",
       "      <th>1048</th>\n",
       "      <td>0.95</td>\n",
       "      <td>7.316807e-01</td>\n",
       "      <td>1.552221e+11</td>\n",
       "      <td>393982.367876</td>\n",
       "    </tr>\n",
       "    <tr>\n",
       "      <th>68</th>\n",
       "      <td>0.00</td>\n",
       "      <td>3.612343e-02</td>\n",
       "      <td>1.552321e+11</td>\n",
       "      <td>393994.988972</td>\n",
       "    </tr>\n",
       "    <tr>\n",
       "      <th>...</th>\n",
       "      <td>...</td>\n",
       "      <td>...</td>\n",
       "      <td>...</td>\n",
       "      <td>...</td>\n",
       "    </tr>\n",
       "    <tr>\n",
       "      <th>1395</th>\n",
       "      <td>0.99</td>\n",
       "      <td>1.825183e-10</td>\n",
       "      <td>3.552233e+11</td>\n",
       "      <td>596006.124482</td>\n",
       "    </tr>\n",
       "    <tr>\n",
       "      <th>1396</th>\n",
       "      <td>0.99</td>\n",
       "      <td>1.570290e-10</td>\n",
       "      <td>3.552233e+11</td>\n",
       "      <td>596006.124493</td>\n",
       "    </tr>\n",
       "    <tr>\n",
       "      <th>1397</th>\n",
       "      <td>0.99</td>\n",
       "      <td>1.350994e-10</td>\n",
       "      <td>3.552233e+11</td>\n",
       "      <td>596006.124503</td>\n",
       "    </tr>\n",
       "    <tr>\n",
       "      <th>1398</th>\n",
       "      <td>0.99</td>\n",
       "      <td>1.162322e-10</td>\n",
       "      <td>3.552233e+11</td>\n",
       "      <td>596006.124512</td>\n",
       "    </tr>\n",
       "    <tr>\n",
       "      <th>1399</th>\n",
       "      <td>0.99</td>\n",
       "      <td>1.000000e-10</td>\n",
       "      <td>3.552233e+11</td>\n",
       "      <td>596006.124519</td>\n",
       "    </tr>\n",
       "  </tbody>\n",
       "</table>\n",
       "<p>1400 rows × 4 columns</p>\n",
       "</div>"
      ],
      "text/plain": [
       "      l1_ratio  modelo.alphas_        mse_cv        rmse_cv\n",
       "267       0.10    4.198707e-02  1.552114e+11  393968.766618\n",
       "463       0.50    7.663411e-02  1.552153e+11  393973.700494\n",
       "1237      0.99    3.827494e+00  1.552206e+11  393980.409559\n",
       "1048      0.95    7.316807e-01  1.552221e+11  393982.367876\n",
       "68        0.00    3.612343e-02  1.552321e+11  393994.988972\n",
       "...        ...             ...           ...            ...\n",
       "1395      0.99    1.825183e-10  3.552233e+11  596006.124482\n",
       "1396      0.99    1.570290e-10  3.552233e+11  596006.124493\n",
       "1397      0.99    1.350994e-10  3.552233e+11  596006.124503\n",
       "1398      0.99    1.162322e-10  3.552233e+11  596006.124512\n",
       "1399      0.99    1.000000e-10  3.552233e+11  596006.124519\n",
       "\n",
       "[1400 rows x 4 columns]"
      ]
     },
     "execution_count": 51,
     "metadata": {},
     "output_type": "execute_result"
    }
   ],
   "source": [
    "# Evolución del error en función de alpha y l1_ratio\n",
    "# ==============================================================================\n",
    "# modelo.mse_path_ almacena el mse de cv para cada valor de alpha y l1_ratio.\n",
    "# Tiene dimensiones (n_l1_ratio, n_alpha, n_folds)\n",
    "\n",
    "# Error medio de las 10 particiones por cada valor de alpha y l1_ratio \n",
    "mean_error_cv = modelo.mse_path_.mean(axis =2)\n",
    "\n",
    "# El resultado es un array de dimensiones (n_l1_ratio, n_alpha)\n",
    "# Se convierte en un dataframe\n",
    "df_resultados_cv = pd.DataFrame(\n",
    "                        data   = mean_error_cv.flatten(),\n",
    "                        index  = pd.MultiIndex.from_product(\n",
    "                                    iterables = [modelo.l1_ratio, modelo.alphas_],\n",
    "                                    names     = ['l1_ratio', 'modelo.alphas_']\n",
    "                                 ),\n",
    "                        columns = [\"mse_cv\"]\n",
    "                    )\n",
    "\n",
    "df_resultados_cv['rmse_cv'] = np.sqrt(df_resultados_cv['mse_cv'])\n",
    "df_resultados_cv = df_resultados_cv.reset_index().sort_values('mse_cv', ascending = True)\n",
    "df_resultados_cv"
   ]
  },
  {
   "cell_type": "code",
   "execution_count": 52,
   "id": "68ac1c76",
   "metadata": {},
   "outputs": [
    {
     "data": {
      "image/png": "[encoded data removed]",
      "text/plain": [
       "<Figure size 504x276.48 with 1 Axes>"
      ]
     },
     "metadata": {
      "needs_background": "light"
     },
     "output_type": "display_data"
    }
   ],
   "source": [
    "# Mejor valor encontrado para cada l1_ratio\n",
    "fig, ax = plt.subplots(figsize=(7, 3.84))\n",
    "df_resultados_cv.groupby('l1_ratio')['rmse_cv'].min().plot(ax = ax)\n",
    "ax.set_title('Evolución del error CV en función de la l1_ratio')\n",
    "ax.set_xlabel('l1_ratio')\n",
    "ax.set_ylabel('rmse_cv');"
   ]
  },
  {
   "cell_type": "code",
   "execution_count": 53,
   "id": "f5131dcf",
   "metadata": {},
   "outputs": [
    {
     "name": "stdout",
     "output_type": "stream",
     "text": [
      "Mejor valor de alpha encontrado: 0.04198707084443923\n",
      "Mejor valor de l1_ratio encontrado: 0.1\n"
     ]
    }
   ],
   "source": [
    "# Mejor valor alpha y l1_ratio_ encontrado\n",
    "# ==============================================================================\n",
    "print(f\"Mejor valor de alpha encontrado: {modelo.alpha_}\")\n",
    "print(f\"Mejor valor de l1_ratio encontrado: {modelo.l1_ratio_}\")"
   ]
  },
  {
   "cell_type": "code",
   "execution_count": 55,
   "id": "4b248098",
   "metadata": {},
   "outputs": [],
   "source": [
    "# Coeficientes del modelo\n",
    "# ==============================================================================\n",
    "df_coeficientes = pd.DataFrame(\n",
    "                        {'predictor': x_train.columns,\n",
    "                         'coef': modelo.coef_.flatten()}\n",
    "                  )"
   ]
  },
  {
   "cell_type": "code",
   "execution_count": 56,
   "id": "e648a9af",
   "metadata": {},
   "outputs": [
    {
     "data": {
      "image/png": "[encoded data removed]",
      "text/plain": [
       "<Figure size 792x276.48 with 1 Axes>"
      ]
     },
     "metadata": {
      "needs_background": "light"
     },
     "output_type": "display_data"
    }
   ],
   "source": [
    "fig, ax = plt.subplots(figsize=(11, 3.84))\n",
    "ax.stem(df_coeficientes.predictor, df_coeficientes.coef, markerfmt=' ')\n",
    "plt.xticks(rotation=90, ha='right', size=5)\n",
    "ax.set_xlabel('variable')\n",
    "ax.set_ylabel('coeficientes')\n",
    "ax.set_title('Coeficientes del modelo');"
   ]
  },
  {
   "cell_type": "code",
   "execution_count": 59,
   "id": "8f40da1c",
   "metadata": {},
   "outputs": [],
   "source": [
    "# Predicciones test\n",
    "# ==============================================================================\n",
    "predicciones = modelo.predict(X=x_test)\n",
    "predicciones = predicciones.flatten()"
   ]
  },
  {
   "cell_type": "code",
   "execution_count": 60,
   "id": "a48a8094",
   "metadata": {},
   "outputs": [
    {
     "name": "stdout",
     "output_type": "stream",
     "text": [
      "\n",
      "El error (rmse) de test es: 190235.10722916367\n"
     ]
    }
   ],
   "source": [
    "# Error de test del modelo \n",
    "# ==============================================================================\n",
    "rmse_elastic = mean_squared_error(\n",
    "                y_true  = y_test,\n",
    "                y_pred  = predicciones,\n",
    "                squared = False\n",
    "               )\n",
    "print(\"\")\n",
    "print(f\"El error (rmse) de test es: {rmse_elastic}\")"
   ]
  },
  {
   "cell_type": "markdown",
   "id": "19939fcf",
   "metadata": {},
   "source": [
    "El modelo elastic net obtenido tiene los mismos coeficientes que el modelo ridge. \n"
   ]
  },
  {
   "cell_type": "markdown",
   "id": "68a553c3",
   "metadata": {},
   "source": [
    "Resumiendo, los métodos de regularización dan como resultado el mismo modelo.\n",
    "Calcularemos el MAPE de entrenamiento y el MAPE de test para comparar el ajuse de este modelo con el ARIMA seleccionado."
   ]
  },
  {
   "cell_type": "code",
   "execution_count": 61,
   "id": "ac14ac7a",
   "metadata": {},
   "outputs": [],
   "source": [
    "#cálculo de MAPE de entrenamiento y test usando el modelo de regularización \n",
    "modelo = RidgeCV(\n",
    "            alphas          = np.logspace(-10, 2, 200),\n",
    "            fit_intercept   = True,\n",
    "            normalize       = True,\n",
    "            store_cv_values = True\n",
    "         )\n",
    "\n",
    "_ = modelo.fit(X = x_train, y = y_train)"
   ]
  },
  {
   "cell_type": "code",
   "execution_count": 63,
   "id": "f7d6fc1e",
   "metadata": {},
   "outputs": [],
   "source": [
    "ridge_fitted = modelo.predict(X=x_train)\n",
    "predicciones = modelo.predict(X=x_test)"
   ]
  },
  {
   "cell_type": "code",
   "execution_count": 64,
   "id": "ebcde17f",
   "metadata": {},
   "outputs": [],
   "source": [
    "fit_ridge_febrero = sum(ridge_fitted[:data_model[data_model['Date'] == '2021-03-01'].index.astype(int)[0]])\n",
    "fit_ridge_marzo = sum(ridge_fitted[data_model[data_model['Date'] == '2021-03-01'].index.astype(int)[0] : data_model[data_model['Date'] == '2021-04-01'].index.astype(int)[0]])\n",
    "fit_ridge_abril = sum(ridge_fitted[data_model[data_model['Date'] == '2021-04-01'].index.astype(int)[0] : data_model[data_model['Date'] == '2021-05-01'].index.astype(int)[0]])\n",
    "fit_ridge_mayo = sum(ridge_fitted[data_model[data_model['Date'] == '2021-05-01'].index.astype(int)[0] : data_model[data_model['Date'] == '2021-06-01'].index.astype(int)[0]])\n",
    "fit_ridge_junio = sum(ridge_fitted[data_model[data_model['Date'] == '2021-06-01'].index.astype(int)[0] : data_model[data_model['Date'] == '2021-07-01'].index.astype(int)[0]])\n",
    "fit_ridge_julio = sum(ridge_fitted[data_model[data_model['Date'] == '2021-07-01'].index.astype(int)[0] : data_model[data_model['Date'] == '2021-08-01'].index.astype(int)[0]])\n",
    "pred_ridge_agosto = sum(predicciones[:31])\n",
    "pred_ridge_septiembre = sum(predicciones[32:])\n",
    "\n",
    "df_ridge_predict = [fit_ridge_febrero, fit_ridge_marzo, fit_ridge_abril, fit_ridge_mayo,\n",
    "                               fit_ridge_junio, fit_ridge_julio, pred_ridge_agosto, pred_ridge_septiembre]\n",
    "\n",
    "mape_train = mean_absolute_percentage_error(monto_mensual['amount'][:6], df_ridge_predict[:6])\n",
    "mape_test = mean_absolute_percentage_error(monto_mensual['amount'][6:], df_ridge_predict[6:])\n",
    "    "
   ]
  },
  {
   "cell_type": "code",
   "execution_count": 65,
   "id": "7c94bbad",
   "metadata": {},
   "outputs": [
    {
     "name": "stdout",
     "output_type": "stream",
     "text": [
      "El MAPE calculado sobre la data de entrenamiento es 5.7696935665338955 por ciento\n",
      "El MAPE calculado sobre la data de testeo 1.2148546358873138 por ciento\n"
     ]
    }
   ],
   "source": [
    "print('El MAPE calculado sobre la data de entrenamiento es', mape_train,'por ciento')\n",
    "print('El MAPE calculado sobre la data de testeo', mape_test,'por ciento')"
   ]
  },
  {
   "cell_type": "markdown",
   "id": "4ed01465",
   "metadata": {},
   "source": [
    "<p style=\"font-family: Arial; font-size:1.75em;color:#2462C0; font-style:bold\"><br>\n",
    "Selección del modelo\n",
    "</p>"
   ]
  },
  {
   "cell_type": "markdown",
   "id": "754cf5fd",
   "metadata": {},
   "source": [
    "Entre el modelo ARIMA y el ridge el que mejor se ajusta tanto a la data de entrenamiento como test es el segundo, además de tener información de otras variables. Usaremos este modelo para realizar la estimación del monto de octubre y en base calculamos el monto financiado por Xepelin."
   ]
  },
  {
   "cell_type": "markdown",
   "id": "6349337a",
   "metadata": {},
   "source": [
    "El problema con este modelo es que debemos conocer los valores futuros de las variables dummies y es complicado hacer esta estimación con la información que tenemos. Se intenta hacer esto por medio de autoarimas."
   ]
  },
  {
   "cell_type": "code",
   "execution_count": 68,
   "id": "4393f723",
   "metadata": {},
   "outputs": [],
   "source": [
    "modelo_final = RidgeCV(\n",
    "            alphas          = np.logspace(-10, 2, 200),\n",
    "            fit_intercept   = True,\n",
    "            normalize       = True,\n",
    "            store_cv_values = True\n",
    "         )\n",
    "\n",
    "_ = modelo_final.fit(X = x, y = y)"
   ]
  },
  {
   "cell_type": "code",
   "execution_count": 69,
   "id": "0337a1ae",
   "metadata": {},
   "outputs": [
    {
     "data": {
      "text/plain": [
       "Index(['top_PayerId_7', 'top_PayerId_8', 'top_PayerId_66', 'top_PayerId_67',\n",
       "       'top_PayerId_106', 'top_PayerId_109', 'top_PayerId_157',\n",
       "       'top_PayerId_173', 'top_PayerId_175', 'top_PayerId_184',\n",
       "       'top_ReceiverId_14', 'top_ReceiverId_16', 'top_ReceiverId_21',\n",
       "       'top_ReceiverId_35', 'top_ReceiverId_46', 'top_ReceiverId_58',\n",
       "       'top_ReceiverId_85', 'top_ReceiverId_87', 'top_ReceiverId_126',\n",
       "       'top_ReceiverId_135'],\n",
       "      dtype='object')"
      ]
     },
     "execution_count": 69,
     "metadata": {},
     "output_type": "execute_result"
    }
   ],
   "source": [
    "x.columns"
   ]
  },
  {
   "cell_type": "code",
   "execution_count": 70,
   "id": "36f63df5",
   "metadata": {},
   "outputs": [
    {
     "name": "stdout",
     "output_type": "stream",
     "text": [
      "Performing stepwise search to minimize aic\n",
      " ARIMA(1,0,1)(0,0,0)[0]             : AIC=-189.038, Time=0.07 sec\n",
      " ARIMA(0,0,0)(0,0,0)[0]             : AIC=-193.038, Time=0.01 sec\n",
      " ARIMA(1,0,0)(0,0,0)[0]             : AIC=-191.038, Time=0.01 sec\n",
      " ARIMA(0,0,1)(0,0,0)[0]             : AIC=-191.038, Time=0.01 sec\n",
      " ARIMA(0,0,0)(0,0,0)[0] intercept   : AIC=-197.116, Time=0.03 sec\n",
      " ARIMA(1,0,0)(0,0,0)[0] intercept   : AIC=-195.278, Time=0.02 sec\n",
      " ARIMA(0,0,1)(0,0,0)[0] intercept   : AIC=-195.286, Time=0.04 sec\n",
      " ARIMA(1,0,1)(0,0,0)[0] intercept   : AIC=-193.293, Time=0.06 sec\n",
      "\n",
      "Best model:  ARIMA(0,0,0)(0,0,0)[0] intercept\n",
      "Total fit time: 0.305 seconds\n"
     ]
    }
   ],
   "source": [
    "#autoarima para cada una de las variables dummy\n",
    "modelo_prueba = pm.auto_arima(x['top_ReceiverId_135'], start_p=1, start_q=1,\n",
    "                      test='adf',       # use adftest to find optimal 'd'\n",
    "                      max_p=3, max_q=3, # maximum p and q\n",
    "                      m=1,              # frequency of series\n",
    "                      d=None,           # let model determine 'd'\n",
    "                      seasonal=False,   # No Seasonality\n",
    "                      start_P=0, \n",
    "                      D=0, \n",
    "                      trace=True,\n",
    "                      error_action='ignore',  \n",
    "                      suppress_warnings=True, \n",
    "                      stepwise=True)"
   ]
  },
  {
   "cell_type": "code",
   "execution_count": 71,
   "id": "58e5d663",
   "metadata": {},
   "outputs": [],
   "source": [
    "#predicciones diarias para octubre\n",
    "n_periods = 31\n",
    "fc, confint = modelo_prueba.predict(n_periods=n_periods, return_conf_int=True)"
   ]
  },
  {
   "cell_type": "code",
   "execution_count": 72,
   "id": "5cd2bfa6",
   "metadata": {},
   "outputs": [
    {
     "data": {
      "text/plain": [
       "array([0.02553191, 0.02553191, 0.02553191, 0.02553191, 0.02553191,\n",
       "       0.02553191, 0.02553191, 0.02553191, 0.02553191, 0.02553191,\n",
       "       0.02553191, 0.02553191, 0.02553191, 0.02553191, 0.02553191,\n",
       "       0.02553191, 0.02553191, 0.02553191, 0.02553191, 0.02553191,\n",
       "       0.02553191, 0.02553191, 0.02553191, 0.02553191, 0.02553191,\n",
       "       0.02553191, 0.02553191, 0.02553191, 0.02553191, 0.02553191,\n",
       "       0.02553191])"
      ]
     },
     "execution_count": 72,
     "metadata": {},
     "output_type": "execute_result"
    }
   ],
   "source": [
    "fc"
   ]
  },
  {
   "cell_type": "markdown",
   "id": "946a261d",
   "metadata": {},
   "source": [
    "Como las predicciones de estas variables dummies deben ser 0 o 1 podríamos inferir que para el top_ReceiverId_135 todos sus valores en octubre son 0."
   ]
  },
  {
   "cell_type": "markdown",
   "id": "053ea283",
   "metadata": {},
   "source": [
    "Se realizó el mismo ejercicio para todas las variables y se obtiene el mismo resultado. En este caso la predicción del monto para octubre estaría definida por el intercepto del modelo ridge."
   ]
  },
  {
   "cell_type": "code",
   "execution_count": 73,
   "id": "fc57afd5",
   "metadata": {},
   "outputs": [
    {
     "data": {
      "text/plain": [
       "1442740.503450823"
      ]
     },
     "execution_count": 73,
     "metadata": {},
     "output_type": "execute_result"
    }
   ],
   "source": [
    "Prediccion_octubre = modelo_final.intercept_*31\n",
    "Prediccion_octubre[0]"
   ]
  },
  {
   "cell_type": "markdown",
   "id": "49d9dd35",
   "metadata": {},
   "source": [
    "<p style=\"font-family: Arial; font-size:1.75em;color:#2462C0; font-style:bold\"><br>\n",
    "Estimación monto financiado por Xepelin\n",
    "</p>"
   ]
  },
  {
   "cell_type": "markdown",
   "id": "632bea8c",
   "metadata": {},
   "source": [
    "Para estimar el monto financiado por Xepelin realizamos una regresión lineal que relacione el monto y el monto financiado por Xepelin."
   ]
  },
  {
   "cell_type": "code",
   "execution_count": 75,
   "id": "f5339c03",
   "metadata": {},
   "outputs": [],
   "source": [
    "#modelo monto financiado por Xepelin\n",
    "x_reg = data_model['amount']\n",
    "y_reg = data_model['amountfinancedByXepelin']"
   ]
  },
  {
   "cell_type": "markdown",
   "id": "a554a4c8",
   "metadata": {},
   "source": [
    "En el siguiente gráfico vemos la relación entre ambas variables. Se puede ver la correlación positiva entre ellas y la presencia de outliers que pueden causar problema en el momento de hacer la regresión, por esto los eliminamos."
   ]
  },
  {
   "cell_type": "code",
   "execution_count": 76,
   "id": "94229f1f",
   "metadata": {
    "scrolled": true
   },
   "outputs": [
    {
     "data": {
      "image/png": "[encoded data removed]",
      "text/plain": [
       "<Figure size 432x288 with 1 Axes>"
      ]
     },
     "metadata": {
      "needs_background": "light"
     },
     "output_type": "display_data"
    }
   ],
   "source": [
    "%matplotlib inline\n",
    "\n",
    "fig, axis = plt.subplots()\n",
    "# Grid lines, Xticks, Xlabel, Ylabel\n",
    "\n",
    "axis.yaxis.grid(True)\n",
    "axis.set_title('Relación entre monto y monto financiado por Xepelin',fontsize=10)\n",
    "axis.set_xlabel('Monto',fontsize=10)\n",
    "axis.set_ylabel('Monto financiado por Xepelin',fontsize=10)\n",
    "\n",
    "X = x_reg\n",
    "Y = y_reg\n",
    "\n",
    "axis.scatter(X, Y)\n",
    "plt.show()"
   ]
  },
  {
   "cell_type": "code",
   "execution_count": 77,
   "id": "0e3a4c6d",
   "metadata": {},
   "outputs": [
    {
     "data": {
      "image/png": "[encoded data removed]",
      "text/plain": [
       "<Figure size 432x288 with 1 Axes>"
      ]
     },
     "metadata": {
      "needs_background": "light"
     },
     "output_type": "display_data"
    }
   ],
   "source": [
    "#data sin outliers\n",
    "data_reg = data_model[data_model['amount'] < 2000000]\n",
    "%matplotlib inline\n",
    "\n",
    "fig, axis = plt.subplots()\n",
    "# Grid lines, Xticks, Xlabel, Ylabel\n",
    "\n",
    "axis.yaxis.grid(True)\n",
    "axis.set_title('Relación entre monto y monto financiado por Xepelin',fontsize=10)\n",
    "axis.set_xlabel('Monto',fontsize=10)\n",
    "axis.set_ylabel('Monto financiado por Xepelin',fontsize=10)\n",
    "\n",
    "X = data_reg['amount']\n",
    "Y = data_reg['amountfinancedByXepelin']\n",
    "\n",
    "axis.scatter(X, Y)\n",
    "plt.show()"
   ]
  },
  {
   "cell_type": "code",
   "execution_count": 78,
   "id": "00f066ee",
   "metadata": {},
   "outputs": [
    {
     "data": {
      "text/plain": [
       "LinearRegression(normalize=True)"
      ]
     },
     "execution_count": 78,
     "metadata": {},
     "output_type": "execute_result"
    }
   ],
   "source": [
    "#modelo monto financiado por Xepelin\n",
    "x_reg = pd.DataFrame(data_reg['amount'])\n",
    "y_reg = pd.DataFrame(data_reg['amountfinancedByXepelin'])\n",
    "modelo_reg = LinearRegression(normalize=True)\n",
    "modelo_reg.fit(X = x_reg, y = y_reg)"
   ]
  },
  {
   "cell_type": "code",
   "execution_count": 80,
   "id": "f1a69393",
   "metadata": {},
   "outputs": [
    {
     "data": {
      "text/plain": [
       "715790.1895700288"
      ]
     },
     "execution_count": 80,
     "metadata": {},
     "output_type": "execute_result"
    }
   ],
   "source": [
    "predccion_monto_Xepelin =  modelo_reg.intercept_[0] + modelo_reg.coef_[0]*Prediccion_octubre[0]\n",
    "predccion_monto_Xepelin[0]"
   ]
  },
  {
   "cell_type": "code",
   "execution_count": 82,
   "id": "7b466d57",
   "metadata": {},
   "outputs": [
    {
     "name": "stdout",
     "output_type": "stream",
     "text": [
      "Se estima que para octubre se va a tener un monto igual a 1442740.503450823 y un monto financiado por Xepelin igual a  715790.1895700288\n"
     ]
    }
   ],
   "source": [
    "print('Se estima que para octubre se va a tener un monto igual a', Prediccion_octubre[0], 'y un monto financiado por Xepelin igual a ', predccion_monto_Xepelin[0])\n"
   ]
  },
  {
   "cell_type": "code",
   "execution_count": 81,
   "id": "1e21b5a9",
   "metadata": {},
   "outputs": [
    {
     "data": {
      "text/html": [
       "<div>\n",
       "<style scoped>\n",
       "    .dataframe tbody tr th:only-of-type {\n",
       "        vertical-align: middle;\n",
       "    }\n",
       "\n",
       "    .dataframe tbody tr th {\n",
       "        vertical-align: top;\n",
       "    }\n",
       "\n",
       "    .dataframe thead th {\n",
       "        text-align: right;\n",
       "    }\n",
       "</style>\n",
       "<table border=\"1\" class=\"dataframe\">\n",
       "  <thead>\n",
       "    <tr style=\"text-align: right;\">\n",
       "      <th></th>\n",
       "      <th>amount</th>\n",
       "    </tr>\n",
       "    <tr>\n",
       "      <th>Mes</th>\n",
       "      <th></th>\n",
       "    </tr>\n",
       "  </thead>\n",
       "  <tbody>\n",
       "    <tr>\n",
       "      <th>2</th>\n",
       "      <td>34425.18</td>\n",
       "    </tr>\n",
       "    <tr>\n",
       "      <th>3</th>\n",
       "      <td>269826.65</td>\n",
       "    </tr>\n",
       "    <tr>\n",
       "      <th>4</th>\n",
       "      <td>429642.39</td>\n",
       "    </tr>\n",
       "    <tr>\n",
       "      <th>5</th>\n",
       "      <td>5806452.68</td>\n",
       "    </tr>\n",
       "    <tr>\n",
       "      <th>6</th>\n",
       "      <td>6469632.61</td>\n",
       "    </tr>\n",
       "    <tr>\n",
       "      <th>7</th>\n",
       "      <td>5765920.25</td>\n",
       "    </tr>\n",
       "    <tr>\n",
       "      <th>8</th>\n",
       "      <td>5044795.41</td>\n",
       "    </tr>\n",
       "    <tr>\n",
       "      <th>9</th>\n",
       "      <td>1178392.90</td>\n",
       "    </tr>\n",
       "  </tbody>\n",
       "</table>\n",
       "</div>"
      ],
      "text/plain": [
       "         amount\n",
       "Mes            \n",
       "2      34425.18\n",
       "3     269826.65\n",
       "4     429642.39\n",
       "5    5806452.68\n",
       "6    6469632.61\n",
       "7    5765920.25\n",
       "8    5044795.41\n",
       "9    1178392.90"
      ]
     },
     "execution_count": 81,
     "metadata": {},
     "output_type": "execute_result"
    }
   ],
   "source": [
    "monto_mensual"
   ]
  },
  {
   "cell_type": "markdown",
   "id": "f7bc2909",
   "metadata": {},
   "source": [
    "Si miramos el historico mensual del monto junto con su tendencia los valores estimados son coherentes."
   ]
  },
  {
   "cell_type": "markdown",
   "id": "617ae75b",
   "metadata": {},
   "source": [
    "<p style=\"font-family: Arial; font-size:1.75em;color:purple; font-style:bold\"><br>\n",
    "Conclusiones y mejores a hacer sobre el modelo</p><br>\n",
    "\n",
    "\n",
    "* El modelo obtenido permite hacer una estimación de los montos de octubre pero este podría mejorarse si se tuviera más historia y si se tuvieran variables continuas para las cuales se tengan los valores futuros o pueden hacerse predicciones de ellas más fácilmente.\n",
    "* Una variable útil para trabajar con la información de las facturas en proceso y que no se tenía para estos modelos es la fecha en la que se generó la factura, al igual que otras fechas que puedan ser parte del proceso de pago.\n",
    "* Si tuvieramos más historia para cada PayerId o ReceiverId podrían ser útiles variables asociadas a cada uno de ellos con el fin de encontrar patrones de comportamiento de pago individual. \n",
    "* Con más historia también podríamos suavizar la variable dependiente para ejecutar otros tipo de modelos. Si la variable a largo plazo tuviera una estacionalidad marcada por ejemplo, se podría hacer la predicción de la tendencia e implemenar la  estacionalidad luego de hacer la predicción.\n",
    "* Si se pudiera obtener un buen modelo que prediga el monto pagado o recibido para cada una de las empresas se podría dar un valor agregado a los clientes donde se les pueda dar una estimación de lo que van a pagar o recibir en el siguiente mes. \n",
    "\n",
    "\n",
    "**Recurso usado como guia para los métodos por regularización:**\n",
    "* https://www.cienciadedatos.net/documentos/py14-ridge-lasso-elastic-net-python.html\n",
    "\n"
   ]
  }
 ],
 "metadata": {
  "kernelspec": {
   "display_name": "Python 3",
   "language": "python",
   "name": "python3"
  },
  "language_info": {
   "codemirror_mode": {
    "name": "ipython",
    "version": 3
   },
   "file_extension": ".py",
   "mimetype": "text/x-python",
   "name": "python",
   "nbconvert_exporter": "python",
   "pygments_lexer": "ipython3",
   "version": "3.8.8"
  }
 },
 "nbformat": 4,
 "nbformat_minor": 5
}
